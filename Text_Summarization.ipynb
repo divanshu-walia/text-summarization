{
  "nbformat": 4,
  "nbformat_minor": 0,
  "metadata": {
    "colab": {
      "name": "Text Summarization.ipynb",
      "provenance": [],
      "collapsed_sections": []
    },
    "kernelspec": {
      "name": "python3",
      "display_name": "Python 3"
    },
    "language_info": {
      "name": "python"
    }
  },
  "cells": [
    {
      "cell_type": "code",
      "metadata": {
        "colab": {
          "base_uri": "https://localhost:8080/"
        },
        "id": "OuoPs8rlDXQB",
        "outputId": "d1464ca6-6e04-46b5-e08b-154485ffdeb2"
      },
      "source": [
        "import numpy as np\n",
        "import pandas as pd\n",
        "import nltk\n",
        "nltk.download('punkt')\n",
        "import re\n",
        "import string\n",
        "from nltk import sent_tokenize\n",
        "\n",
        "!pip install contractions\n",
        "import contractions\n",
        "\n",
        "nltk.download('stopwords')\n",
        "from nltk.corpus import stopwords\n",
        "stopwords = stopwords.words('english')"
      ],
      "execution_count": 1,
      "outputs": [
        {
          "output_type": "stream",
          "text": [
            "[nltk_data] Downloading package punkt to /root/nltk_data...\n",
            "[nltk_data]   Unzipping tokenizers/punkt.zip.\n",
            "Collecting contractions\n",
            "  Downloading contractions-0.0.52-py2.py3-none-any.whl (7.2 kB)\n",
            "Collecting textsearch>=0.0.21\n",
            "  Downloading textsearch-0.0.21-py2.py3-none-any.whl (7.5 kB)\n",
            "Collecting anyascii\n",
            "  Downloading anyascii-0.2.0-py3-none-any.whl (283 kB)\n",
            "\u001b[K     |████████████████████████████████| 283 kB 34.6 MB/s \n",
            "\u001b[?25hCollecting pyahocorasick\n",
            "  Downloading pyahocorasick-1.4.2.tar.gz (321 kB)\n",
            "\u001b[K     |████████████████████████████████| 321 kB 67.1 MB/s \n",
            "\u001b[?25hBuilding wheels for collected packages: pyahocorasick\n",
            "  Building wheel for pyahocorasick (setup.py) ... \u001b[?25l\u001b[?25hdone\n",
            "  Created wheel for pyahocorasick: filename=pyahocorasick-1.4.2-cp37-cp37m-linux_x86_64.whl size=85451 sha256=0335116ae40d7a9657c5df8ad9c46258a0d5210bf386c9b180f9928ae38798ec\n",
            "  Stored in directory: /root/.cache/pip/wheels/25/19/a6/8f363d9939162782bb8439d886469756271abc01f76fbd790f\n",
            "Successfully built pyahocorasick\n",
            "Installing collected packages: pyahocorasick, anyascii, textsearch, contractions\n",
            "Successfully installed anyascii-0.2.0 contractions-0.0.52 pyahocorasick-1.4.2 textsearch-0.0.21\n",
            "[nltk_data] Downloading package stopwords to /root/nltk_data...\n",
            "[nltk_data]   Unzipping corpora/stopwords.zip.\n"
          ],
          "name": "stdout"
        }
      ]
    },
    {
      "cell_type": "code",
      "metadata": {
        "colab": {
          "base_uri": "https://localhost:8080/"
        },
        "id": "lut17s2BZsWH",
        "outputId": "da558b9b-cb8d-4479-b6af-e67618da7f16"
      },
      "source": [
        "stopwords.append('th')\n",
        "stopwords.append('st')\n",
        "stopwords.append('nd')\n",
        "stopwords.append('rd')\n",
        "len(stopwords)"
      ],
      "execution_count": 2,
      "outputs": [
        {
          "output_type": "execute_result",
          "data": {
            "text/plain": [
              "183"
            ]
          },
          "metadata": {
            "tags": []
          },
          "execution_count": 2
        }
      ]
    },
    {
      "cell_type": "code",
      "metadata": {
        "colab": {
          "base_uri": "https://localhost:8080/"
        },
        "id": "xxpuYee5D0IS",
        "outputId": "493b5df8-4e1e-4bcc-c484-4c5a2eeb8f1e"
      },
      "source": [
        "from google.colab import drive\n",
        "drive.mount('/content/drive')"
      ],
      "execution_count": 3,
      "outputs": [
        {
          "output_type": "stream",
          "text": [
            "Drive already mounted at /content/drive; to attempt to forcibly remount, call drive.mount(\"/content/drive\", force_remount=True).\n"
          ],
          "name": "stdout"
        }
      ]
    },
    {
      "cell_type": "code",
      "metadata": {
        "colab": {
          "base_uri": "https://localhost:8080/"
        },
        "id": "RXYMLxMGD7yi",
        "outputId": "52766033-c260-41b0-d53b-2bffc9b27e19"
      },
      "source": [
        "%cd /content/drive/MyDrive/"
      ],
      "execution_count": 4,
      "outputs": [
        {
          "output_type": "stream",
          "text": [
            "/content/drive/MyDrive\n"
          ],
          "name": "stdout"
        }
      ]
    },
    {
      "cell_type": "code",
      "metadata": {
        "colab": {
          "base_uri": "https://localhost:8080/"
        },
        "id": "e6l8NtuJxgzc",
        "outputId": "0040787d-5eed-4184-b9db-d0c8ccb46a6e"
      },
      "source": [
        "%ls"
      ],
      "execution_count": 5,
      "outputs": [
        {
          "output_type": "stream",
          "text": [
            " amazonreviews.tsv   glove.6B.200d.txt         IMG_20210510_102957-min.jpg\n",
            " bricks.jpg          glove.6B.300d.txt         iris.csv.gsheet\n",
            " circle.png          glove.6B.50d.txt         'LEARNING MANAGEMENT SYSTEM.pptx'\n",
            " \u001b[0m\u001b[01;34mClassroom\u001b[0m/          glove.6B.zip              nlp_1_train.csv\n",
            "\u001b[01;34m'Colab Notebooks'\u001b[0m/   glove.6B.zip.1            tennis_articles.csv\n",
            " Demo.txt            historic_articles.csv\n",
            " glove.6B.100d.txt   IMG_20201203_142606.jpg\n"
          ],
          "name": "stdout"
        }
      ]
    },
    {
      "cell_type": "code",
      "metadata": {
        "id": "ixLXGeS4FTqd"
      },
      "source": [
        "# Reading csv file\n",
        "news = pd.read_csv('tennis_articles.csv')"
      ],
      "execution_count": 6,
      "outputs": []
    },
    {
      "cell_type": "markdown",
      "metadata": {
        "id": "fUIqN2Toa0ds"
      },
      "source": [
        "## Analysing data"
      ]
    },
    {
      "cell_type": "code",
      "metadata": {
        "colab": {
          "base_uri": "https://localhost:8080/",
          "height": 206
        },
        "id": "tZNhfRfSGthL",
        "outputId": "073e3fef-2b5e-45ca-b50b-0044a03cd898"
      },
      "source": [
        "# Analysing the data\n",
        "news.head()"
      ],
      "execution_count": 7,
      "outputs": [
        {
          "output_type": "execute_result",
          "data": {
            "text/html": [
              "<div>\n",
              "<style scoped>\n",
              "    .dataframe tbody tr th:only-of-type {\n",
              "        vertical-align: middle;\n",
              "    }\n",
              "\n",
              "    .dataframe tbody tr th {\n",
              "        vertical-align: top;\n",
              "    }\n",
              "\n",
              "    .dataframe thead th {\n",
              "        text-align: right;\n",
              "    }\n",
              "</style>\n",
              "<table border=\"1\" class=\"dataframe\">\n",
              "  <thead>\n",
              "    <tr style=\"text-align: right;\">\n",
              "      <th></th>\n",
              "      <th>article_id</th>\n",
              "      <th>article_title</th>\n",
              "      <th>article_text</th>\n",
              "      <th>source</th>\n",
              "    </tr>\n",
              "  </thead>\n",
              "  <tbody>\n",
              "    <tr>\n",
              "      <th>0</th>\n",
              "      <td>1</td>\n",
              "      <td>I do not have friends in tennis, says Maria Sh...</td>\n",
              "      <td>Maria Sharapova has basically no friends as te...</td>\n",
              "      <td>https://www.tennisworldusa.org/tennis/news/Mar...</td>\n",
              "    </tr>\n",
              "    <tr>\n",
              "      <th>1</th>\n",
              "      <td>2</td>\n",
              "      <td>Federer defeats Medvedev to advance to 14th Sw...</td>\n",
              "      <td>BASEL, Switzerland (AP) — Roger Federer advanc...</td>\n",
              "      <td>http://www.tennis.com/pro-game/2018/10/copil-s...</td>\n",
              "    </tr>\n",
              "    <tr>\n",
              "      <th>2</th>\n",
              "      <td>3</td>\n",
              "      <td>Tennis: Roger Federer ignored deadline set by ...</td>\n",
              "      <td>Roger Federer has revealed that organisers of ...</td>\n",
              "      <td>https://scroll.in/field/899938/tennis-roger-fe...</td>\n",
              "    </tr>\n",
              "    <tr>\n",
              "      <th>3</th>\n",
              "      <td>4</td>\n",
              "      <td>Nishikori to face off against Anderson in Vien...</td>\n",
              "      <td>Kei Nishikori will try to end his long losing ...</td>\n",
              "      <td>http://www.tennis.com/pro-game/2018/10/nishiko...</td>\n",
              "    </tr>\n",
              "    <tr>\n",
              "      <th>4</th>\n",
              "      <td>5</td>\n",
              "      <td>Roger Federer has made this huge change to ten...</td>\n",
              "      <td>Federer, 37, first broke through on tour over ...</td>\n",
              "      <td>https://www.express.co.uk/sport/tennis/1036101...</td>\n",
              "    </tr>\n",
              "  </tbody>\n",
              "</table>\n",
              "</div>"
            ],
            "text/plain": [
              "   article_id  ...                                             source\n",
              "0           1  ...  https://www.tennisworldusa.org/tennis/news/Mar...\n",
              "1           2  ...  http://www.tennis.com/pro-game/2018/10/copil-s...\n",
              "2           3  ...  https://scroll.in/field/899938/tennis-roger-fe...\n",
              "3           4  ...  http://www.tennis.com/pro-game/2018/10/nishiko...\n",
              "4           5  ...  https://www.express.co.uk/sport/tennis/1036101...\n",
              "\n",
              "[5 rows x 4 columns]"
            ]
          },
          "metadata": {
            "tags": []
          },
          "execution_count": 7
        }
      ]
    },
    {
      "cell_type": "code",
      "metadata": {
        "colab": {
          "base_uri": "https://localhost:8080/",
          "height": 206
        },
        "id": "BArhn29wmCUP",
        "outputId": "5f3c17cb-59d8-42ac-ff2f-7b0fb9d23578"
      },
      "source": [
        "news.tail()"
      ],
      "execution_count": 8,
      "outputs": [
        {
          "output_type": "execute_result",
          "data": {
            "text/html": [
              "<div>\n",
              "<style scoped>\n",
              "    .dataframe tbody tr th:only-of-type {\n",
              "        vertical-align: middle;\n",
              "    }\n",
              "\n",
              "    .dataframe tbody tr th {\n",
              "        vertical-align: top;\n",
              "    }\n",
              "\n",
              "    .dataframe thead th {\n",
              "        text-align: right;\n",
              "    }\n",
              "</style>\n",
              "<table border=\"1\" class=\"dataframe\">\n",
              "  <thead>\n",
              "    <tr style=\"text-align: right;\">\n",
              "      <th></th>\n",
              "      <th>article_id</th>\n",
              "      <th>article_title</th>\n",
              "      <th>article_text</th>\n",
              "      <th>source</th>\n",
              "    </tr>\n",
              "  </thead>\n",
              "  <tbody>\n",
              "    <tr>\n",
              "      <th>3</th>\n",
              "      <td>4</td>\n",
              "      <td>Nishikori to face off against Anderson in Vien...</td>\n",
              "      <td>Kei Nishikori will try to end his long losing ...</td>\n",
              "      <td>http://www.tennis.com/pro-game/2018/10/nishiko...</td>\n",
              "    </tr>\n",
              "    <tr>\n",
              "      <th>4</th>\n",
              "      <td>5</td>\n",
              "      <td>Roger Federer has made this huge change to ten...</td>\n",
              "      <td>Federer, 37, first broke through on tour over ...</td>\n",
              "      <td>https://www.express.co.uk/sport/tennis/1036101...</td>\n",
              "    </tr>\n",
              "    <tr>\n",
              "      <th>5</th>\n",
              "      <td>6</td>\n",
              "      <td>Rafael Nadal: World No 1 ARRIVES for Paris Mas...</td>\n",
              "      <td>Nadal has not played tennis since he was force...</td>\n",
              "      <td>https://www.express.co.uk/sport/tennis/1037119...</td>\n",
              "    </tr>\n",
              "    <tr>\n",
              "      <th>6</th>\n",
              "      <td>7</td>\n",
              "      <td>TENNIS.COM PODCAST: POINT DEFENSE, RANKING DRO...</td>\n",
              "      <td>Tennis giveth, and tennis taketh away. The end...</td>\n",
              "      <td>http://www.tennis.com/pro-game/2018/10/tennisc...</td>\n",
              "    </tr>\n",
              "    <tr>\n",
              "      <th>7</th>\n",
              "      <td>8</td>\n",
              "      <td>Tennis journalist’s heartbreaking insight on T...</td>\n",
              "      <td>I PLAYED golf last week with Todd Reid. He pic...</td>\n",
              "      <td>https://www.foxsports.com.au/tennis/tennis-jou...</td>\n",
              "    </tr>\n",
              "  </tbody>\n",
              "</table>\n",
              "</div>"
            ],
            "text/plain": [
              "   article_id  ...                                             source\n",
              "3           4  ...  http://www.tennis.com/pro-game/2018/10/nishiko...\n",
              "4           5  ...  https://www.express.co.uk/sport/tennis/1036101...\n",
              "5           6  ...  https://www.express.co.uk/sport/tennis/1037119...\n",
              "6           7  ...  http://www.tennis.com/pro-game/2018/10/tennisc...\n",
              "7           8  ...  https://www.foxsports.com.au/tennis/tennis-jou...\n",
              "\n",
              "[5 rows x 4 columns]"
            ]
          },
          "metadata": {
            "tags": []
          },
          "execution_count": 8
        }
      ]
    },
    {
      "cell_type": "code",
      "metadata": {
        "colab": {
          "base_uri": "https://localhost:8080/"
        },
        "id": "TQaOuCBwNyeu",
        "outputId": "ef3f9310-e10d-4716-b7f4-8540a672ead2"
      },
      "source": [
        "news.shape"
      ],
      "execution_count": 9,
      "outputs": [
        {
          "output_type": "execute_result",
          "data": {
            "text/plain": [
              "(8, 4)"
            ]
          },
          "metadata": {
            "tags": []
          },
          "execution_count": 9
        }
      ]
    },
    {
      "cell_type": "code",
      "metadata": {
        "colab": {
          "base_uri": "https://localhost:8080/"
        },
        "id": "y7GmGR4mOG-Z",
        "outputId": "7080ed5d-d2dc-48a5-d1e4-bbe9be1d141e"
      },
      "source": [
        "news.info()"
      ],
      "execution_count": 10,
      "outputs": [
        {
          "output_type": "stream",
          "text": [
            "<class 'pandas.core.frame.DataFrame'>\n",
            "RangeIndex: 8 entries, 0 to 7\n",
            "Data columns (total 4 columns):\n",
            " #   Column         Non-Null Count  Dtype \n",
            "---  ------         --------------  ----- \n",
            " 0   article_id     8 non-null      int64 \n",
            " 1   article_title  8 non-null      object\n",
            " 2   article_text   8 non-null      object\n",
            " 3   source         8 non-null      object\n",
            "dtypes: int64(1), object(3)\n",
            "memory usage: 384.0+ bytes\n"
          ],
          "name": "stdout"
        }
      ]
    },
    {
      "cell_type": "code",
      "metadata": {
        "colab": {
          "base_uri": "https://localhost:8080/",
          "height": 300
        },
        "id": "hiRSLld-OLTD",
        "outputId": "2faeb9b3-3612-4585-e8f6-265159a1ecf4"
      },
      "source": [
        "news.describe()"
      ],
      "execution_count": 11,
      "outputs": [
        {
          "output_type": "execute_result",
          "data": {
            "text/html": [
              "<div>\n",
              "<style scoped>\n",
              "    .dataframe tbody tr th:only-of-type {\n",
              "        vertical-align: middle;\n",
              "    }\n",
              "\n",
              "    .dataframe tbody tr th {\n",
              "        vertical-align: top;\n",
              "    }\n",
              "\n",
              "    .dataframe thead th {\n",
              "        text-align: right;\n",
              "    }\n",
              "</style>\n",
              "<table border=\"1\" class=\"dataframe\">\n",
              "  <thead>\n",
              "    <tr style=\"text-align: right;\">\n",
              "      <th></th>\n",
              "      <th>article_id</th>\n",
              "    </tr>\n",
              "  </thead>\n",
              "  <tbody>\n",
              "    <tr>\n",
              "      <th>count</th>\n",
              "      <td>8.00000</td>\n",
              "    </tr>\n",
              "    <tr>\n",
              "      <th>mean</th>\n",
              "      <td>4.50000</td>\n",
              "    </tr>\n",
              "    <tr>\n",
              "      <th>std</th>\n",
              "      <td>2.44949</td>\n",
              "    </tr>\n",
              "    <tr>\n",
              "      <th>min</th>\n",
              "      <td>1.00000</td>\n",
              "    </tr>\n",
              "    <tr>\n",
              "      <th>25%</th>\n",
              "      <td>2.75000</td>\n",
              "    </tr>\n",
              "    <tr>\n",
              "      <th>50%</th>\n",
              "      <td>4.50000</td>\n",
              "    </tr>\n",
              "    <tr>\n",
              "      <th>75%</th>\n",
              "      <td>6.25000</td>\n",
              "    </tr>\n",
              "    <tr>\n",
              "      <th>max</th>\n",
              "      <td>8.00000</td>\n",
              "    </tr>\n",
              "  </tbody>\n",
              "</table>\n",
              "</div>"
            ],
            "text/plain": [
              "       article_id\n",
              "count     8.00000\n",
              "mean      4.50000\n",
              "std       2.44949\n",
              "min       1.00000\n",
              "25%       2.75000\n",
              "50%       4.50000\n",
              "75%       6.25000\n",
              "max       8.00000"
            ]
          },
          "metadata": {
            "tags": []
          },
          "execution_count": 11
        }
      ]
    },
    {
      "cell_type": "code",
      "metadata": {
        "colab": {
          "base_uri": "https://localhost:8080/"
        },
        "id": "C7s3TXCMOZz4",
        "outputId": "f2203502-8907-45c1-ae00-b5cc32eb6e68"
      },
      "source": [
        "# All the columns in the dataset\n",
        "news.columns"
      ],
      "execution_count": 12,
      "outputs": [
        {
          "output_type": "execute_result",
          "data": {
            "text/plain": [
              "Index(['article_id', 'article_title', 'article_text', 'source'], dtype='object')"
            ]
          },
          "metadata": {
            "tags": []
          },
          "execution_count": 12
        }
      ]
    },
    {
      "cell_type": "code",
      "metadata": {
        "colab": {
          "base_uri": "https://localhost:8080/"
        },
        "id": "wPxlvFBUiQff",
        "outputId": "7f24fecf-2286-4582-92cf-90ce2358a07a"
      },
      "source": [
        "# Checking the news source\n",
        "news['source'].value_counts()"
      ],
      "execution_count": 13,
      "outputs": [
        {
          "output_type": "execute_result",
          "data": {
            "text/plain": [
              "http://www.tennis.com/pro-game/2018/10/copil-stuns-5th-ranked-zverev-to-reach-swiss-indoors-final/77721/                                                                                1\n",
              "https://www.express.co.uk/sport/tennis/1037119/Rafael-Nadal-World-No-1-Paris-Masters-Federer-Djokovic                                                                                   1\n",
              "http://www.tennis.com/pro-game/2018/10/nishikori-beats-kukushkin-in-vienna-for-3rd-final-of-season/77719/                                                                               1\n",
              "http://www.tennis.com/pro-game/2018/10/tenniscom-podcast-irina-falconi-jack-sock-rafael-nadal-singapore/77698/                                                                          1\n",
              "https://www.express.co.uk/sport/tennis/1036101/Roger-Federer-Swiss-Indoors-Jan-Lennard-Struff-Lindsay-Davenport                                                                         1\n",
              "https://www.tennisworldusa.org/tennis/news/Maria_Sharapova/62220/i-do-not-have-friends-in-tennis-says-maria-sharapova/                                                                  1\n",
              "https://scroll.in/field/899938/tennis-roger-federer-ignored-deadline-set-by-new-davis-cup                                                                                               1\n",
              "https://www.foxsports.com.au/tennis/tennis-journalists-heartbreaking-insight-on-todd-reid/news-story/10ab4ac53397fbbc9597e224ba480605?nk=dc8c001fd87474667d37e40a150a3ad5-1540715689    1\n",
              "Name: source, dtype: int64"
            ]
          },
          "metadata": {
            "tags": []
          },
          "execution_count": 13
        }
      ]
    },
    {
      "cell_type": "markdown",
      "metadata": {
        "id": "D5V7XZrhgzsT"
      },
      "source": [
        "##Analyzing the news articles"
      ]
    },
    {
      "cell_type": "code",
      "metadata": {
        "colab": {
          "base_uri": "https://localhost:8080/",
          "height": 145
        },
        "id": "iikYsV3UOk8B",
        "outputId": "fc80b0a4-b84f-4eb0-d37b-bbf5923e07a5"
      },
      "source": [
        "# Analysing the article text.\n",
        "news['article_text'][0]"
      ],
      "execution_count": 14,
      "outputs": [
        {
          "output_type": "execute_result",
          "data": {
            "application/vnd.google.colaboratory.intrinsic+json": {
              "type": "string"
            },
            "text/plain": [
              "\"Maria Sharapova has basically no friends as tennis players on the WTA Tour. The Russian player has no problems in openly speaking about it and in a recent interview she said: 'I don't really hide any feelings too much. I think everyone knows this is my job here. When I'm on the courts or when I'm on the court playing, I'm a competitor and I want to beat every single person whether they're in the locker room or across the net. So I'm not the one to strike up a conversation about the weather and know that in the next few minutes I have to go and try to win a tennis match. I'm a pretty competitive girl. I say my hellos, but I'm not sending any players flowers as well. Uhm, I'm not really friendly or close to many players. I have not a lot of friends away from the courts.' When she said she is not really close to a lot of players, is that something strategic that she is doing? Is it different on the men's tour than the women's tour? 'No, not at all. I think just because you're in the same sport doesn't mean that you have to be friends with everyone just because you're categorized, you're a tennis player, so you're going to get along with tennis players. I think every person has different interests. I have friends that have completely different jobs and interests, and I've met them in very different parts of my life. I think everyone just thinks because we're tennis players we should be the greatest of friends. But ultimately tennis is just a very small part of what we do. There are so many other things that we're interested in, that we do.' ALSO READ: Maria Sharapova reveals how tennis keeps her motivated.\""
            ]
          },
          "metadata": {
            "tags": []
          },
          "execution_count": 14
        }
      ]
    },
    {
      "cell_type": "code",
      "metadata": {
        "colab": {
          "base_uri": "https://localhost:8080/",
          "height": 146
        },
        "id": "sSCPTwwmP4CT",
        "outputId": "7982ffa0-3826-4485-f9d3-e211f56a6133"
      },
      "source": [
        "news['article_text'][7]"
      ],
      "execution_count": 15,
      "outputs": [
        {
          "output_type": "execute_result",
          "data": {
            "application/vnd.google.colaboratory.intrinsic+json": {
              "type": "string"
            },
            "text/plain": [
              "'I PLAYED golf last week with Todd Reid. He picked me up at 5.30am, half an hour early because he couldn’t sleep. Or hadn’t slept, to be specific. Not because he’d been out on a bender or anything — those days were in the past. The former Wimbledon junior champion was full of hope, excited about getting his life back together after a troubled few years and a touch-and-go battle with pancreatitis. “I’m pleased with that,” he said after grinding out an eight-over-par front nine at the not-so-royal Northbridge club in Sydney and smashing down an egg- and-bacon roll at the halfway house. To most players of his rare sporting gifts, such a modest return would be unacceptable. To Reid the 15-marker, just being up and at ‘em was enough; a few bogeys and one well-made par — broomstick putter and all — vindication for his recent decision to renew his membership at nearby Bankstown. Exhausted after spending half his round deep in the bushes searching for my ball, as well as those of two other golfers he’d never met before, our incredibly giving designated driver asked if we didn’t mind going straight home after signing off so he could rest up a little before heading to work. Fourteen years after sharing centre court with Roger Federer in the third round of the Australian Open, Reid was now running the counter and coaching kids - but sadly now never mine- in suburban Sydney at the Matraville tennis and squash centre run by his father Bob and beautiful mother Sandra, herselfa former professional. Quite the fall from grace for a prodigious talent once afforded a 3000-word spread in The New York Times. With sponsors and the world at his feet, Reid was 14 then and being mentored by Nick Bollettieri, who fashioned the likes of Andre Agassi, Maria Sharapova, Monica Seles and Jim Courier into world No.1s. Reid, too, was earmarked for the very top, only for injuries and illness to cruel his career. On the up again after taking salvation in the bottle, Reid was found dead on Tuesday aged just 34. “I never got over what happened to me when I was 19,” he told AAP last week. Just as his senior career got legs, Reid was derailed by a debilitating bout of glandular fever. The life-changing setback hit only weeks after the then-teenage wonder boy announced his arrival as a grand slam threat by throwing up all over Rod Laver Arena during a fighting five-set second-round win over Sargis Sargsian. The epic victory set-up his showdown with Federer, who would go on to win his first Australian Open. “I was their golden boy then,” he said of his relationship with Tennis Australia. “Now they won’t even give me tickets (to the Open).” A Davis Cup pick and on the cusp of the world’s 100 by 18, Reid had few other complaints - just a lingering sense of what might have been. He’d backed up his last-32 showingat Melbourne Park with a string of wins over elites including French Open champion and then world No.9 Gaston Gaudio and Roland Garros runner-up Martin Verkerk in 2004 before illness struck. “I was on a nice trajectorythen,” Reid recalled.“If I hadn’t got sick, I think I could have started pushing towards the second week at the slams and then who knows.” Duringa comeback attempt some five years later, Reid added Bernard Tomic and 2018 US Open Federer slayer John Millman to his list of career scalps. “He had one of the best backhands, I think, going around,” Millman told AAP. “But my fondest memory is probably him coming back in Spain with his father and Todd trying to order a ham, cheese and tomato sandwich in the most Aussie English I ever heard.” Among his lesser known achievements - but even more significantto me - was an injured Reid’s effort to reach the final of the Manly Seaside, a prestigious Christmas-time event won backin the day by the likes of legends Rod Laver, Ken Rosewall, Frank Sedgman, John Bromwich, Lew Hoad, Neal Fraser, Fred Stolle, Evonne Goolagong and Australia’s last women’s Australian Open champion, Christine O’Neil. Hampered by a shoulder injury, Reid served under-arm - UNDER-ARM - throughout the entire tournament yet still made the decider. “I was always happy to work hard,” he said. He had hoped the mercurial Nick Kyrgios would do the same. A big fan and believer in the enigmatic Canberran, Reid didn’t want to see Kyrgios’s career slip away like his did. “Full effort he wouldn’t fail,” Reid said of Kyrgios. “Full effort Nick could live out his tennis like a (Tomas) Berdych or (Jo- Wilfried) Tsonga, consistently making second week,quarters, semis, finals of slams - and then hopefully more. “Time will tell for Nick, but he’s still young.” Todd Reid was still young, too. Tragically, his time ran out.'"
            ]
          },
          "metadata": {
            "tags": []
          },
          "execution_count": 15
        }
      ]
    },
    {
      "cell_type": "markdown",
      "metadata": {
        "id": "BVjmZgHnRFlc"
      },
      "source": [
        "## Tokenizing the text into sentences"
      ]
    },
    {
      "cell_type": "code",
      "metadata": {
        "colab": {
          "base_uri": "https://localhost:8080/",
          "height": 206
        },
        "id": "yml7wuN2fVIa",
        "outputId": "4dff2542-a1c2-434e-9ea6-a35694a8e47f"
      },
      "source": [
        "news.head()"
      ],
      "execution_count": 16,
      "outputs": [
        {
          "output_type": "execute_result",
          "data": {
            "text/html": [
              "<div>\n",
              "<style scoped>\n",
              "    .dataframe tbody tr th:only-of-type {\n",
              "        vertical-align: middle;\n",
              "    }\n",
              "\n",
              "    .dataframe tbody tr th {\n",
              "        vertical-align: top;\n",
              "    }\n",
              "\n",
              "    .dataframe thead th {\n",
              "        text-align: right;\n",
              "    }\n",
              "</style>\n",
              "<table border=\"1\" class=\"dataframe\">\n",
              "  <thead>\n",
              "    <tr style=\"text-align: right;\">\n",
              "      <th></th>\n",
              "      <th>article_id</th>\n",
              "      <th>article_title</th>\n",
              "      <th>article_text</th>\n",
              "      <th>source</th>\n",
              "    </tr>\n",
              "  </thead>\n",
              "  <tbody>\n",
              "    <tr>\n",
              "      <th>0</th>\n",
              "      <td>1</td>\n",
              "      <td>I do not have friends in tennis, says Maria Sh...</td>\n",
              "      <td>Maria Sharapova has basically no friends as te...</td>\n",
              "      <td>https://www.tennisworldusa.org/tennis/news/Mar...</td>\n",
              "    </tr>\n",
              "    <tr>\n",
              "      <th>1</th>\n",
              "      <td>2</td>\n",
              "      <td>Federer defeats Medvedev to advance to 14th Sw...</td>\n",
              "      <td>BASEL, Switzerland (AP) — Roger Federer advanc...</td>\n",
              "      <td>http://www.tennis.com/pro-game/2018/10/copil-s...</td>\n",
              "    </tr>\n",
              "    <tr>\n",
              "      <th>2</th>\n",
              "      <td>3</td>\n",
              "      <td>Tennis: Roger Federer ignored deadline set by ...</td>\n",
              "      <td>Roger Federer has revealed that organisers of ...</td>\n",
              "      <td>https://scroll.in/field/899938/tennis-roger-fe...</td>\n",
              "    </tr>\n",
              "    <tr>\n",
              "      <th>3</th>\n",
              "      <td>4</td>\n",
              "      <td>Nishikori to face off against Anderson in Vien...</td>\n",
              "      <td>Kei Nishikori will try to end his long losing ...</td>\n",
              "      <td>http://www.tennis.com/pro-game/2018/10/nishiko...</td>\n",
              "    </tr>\n",
              "    <tr>\n",
              "      <th>4</th>\n",
              "      <td>5</td>\n",
              "      <td>Roger Federer has made this huge change to ten...</td>\n",
              "      <td>Federer, 37, first broke through on tour over ...</td>\n",
              "      <td>https://www.express.co.uk/sport/tennis/1036101...</td>\n",
              "    </tr>\n",
              "  </tbody>\n",
              "</table>\n",
              "</div>"
            ],
            "text/plain": [
              "   article_id  ...                                             source\n",
              "0           1  ...  https://www.tennisworldusa.org/tennis/news/Mar...\n",
              "1           2  ...  http://www.tennis.com/pro-game/2018/10/copil-s...\n",
              "2           3  ...  https://scroll.in/field/899938/tennis-roger-fe...\n",
              "3           4  ...  http://www.tennis.com/pro-game/2018/10/nishiko...\n",
              "4           5  ...  https://www.express.co.uk/sport/tennis/1036101...\n",
              "\n",
              "[5 rows x 4 columns]"
            ]
          },
          "metadata": {
            "tags": []
          },
          "execution_count": 16
        }
      ]
    },
    {
      "cell_type": "code",
      "metadata": {
        "id": "5-WVcmAGQehB"
      },
      "source": [
        "news['sen_token'] = news['article_text'].apply(lambda x: sent_tokenize(x))"
      ],
      "execution_count": 17,
      "outputs": []
    },
    {
      "cell_type": "code",
      "metadata": {
        "colab": {
          "base_uri": "https://localhost:8080/",
          "height": 275
        },
        "id": "7SERHdBwSEeB",
        "outputId": "a84c0065-b272-49cd-d5ed-bfccc570d942"
      },
      "source": [
        "news.head()"
      ],
      "execution_count": 18,
      "outputs": [
        {
          "output_type": "execute_result",
          "data": {
            "text/html": [
              "<div>\n",
              "<style scoped>\n",
              "    .dataframe tbody tr th:only-of-type {\n",
              "        vertical-align: middle;\n",
              "    }\n",
              "\n",
              "    .dataframe tbody tr th {\n",
              "        vertical-align: top;\n",
              "    }\n",
              "\n",
              "    .dataframe thead th {\n",
              "        text-align: right;\n",
              "    }\n",
              "</style>\n",
              "<table border=\"1\" class=\"dataframe\">\n",
              "  <thead>\n",
              "    <tr style=\"text-align: right;\">\n",
              "      <th></th>\n",
              "      <th>article_id</th>\n",
              "      <th>article_title</th>\n",
              "      <th>article_text</th>\n",
              "      <th>source</th>\n",
              "      <th>sen_token</th>\n",
              "    </tr>\n",
              "  </thead>\n",
              "  <tbody>\n",
              "    <tr>\n",
              "      <th>0</th>\n",
              "      <td>1</td>\n",
              "      <td>I do not have friends in tennis, says Maria Sh...</td>\n",
              "      <td>Maria Sharapova has basically no friends as te...</td>\n",
              "      <td>https://www.tennisworldusa.org/tennis/news/Mar...</td>\n",
              "      <td>[Maria Sharapova has basically no friends as t...</td>\n",
              "    </tr>\n",
              "    <tr>\n",
              "      <th>1</th>\n",
              "      <td>2</td>\n",
              "      <td>Federer defeats Medvedev to advance to 14th Sw...</td>\n",
              "      <td>BASEL, Switzerland (AP) — Roger Federer advanc...</td>\n",
              "      <td>http://www.tennis.com/pro-game/2018/10/copil-s...</td>\n",
              "      <td>[BASEL, Switzerland (AP) — Roger Federer advan...</td>\n",
              "    </tr>\n",
              "    <tr>\n",
              "      <th>2</th>\n",
              "      <td>3</td>\n",
              "      <td>Tennis: Roger Federer ignored deadline set by ...</td>\n",
              "      <td>Roger Federer has revealed that organisers of ...</td>\n",
              "      <td>https://scroll.in/field/899938/tennis-roger-fe...</td>\n",
              "      <td>[Roger Federer has revealed that organisers of...</td>\n",
              "    </tr>\n",
              "    <tr>\n",
              "      <th>3</th>\n",
              "      <td>4</td>\n",
              "      <td>Nishikori to face off against Anderson in Vien...</td>\n",
              "      <td>Kei Nishikori will try to end his long losing ...</td>\n",
              "      <td>http://www.tennis.com/pro-game/2018/10/nishiko...</td>\n",
              "      <td>[Kei Nishikori will try to end his long losing...</td>\n",
              "    </tr>\n",
              "    <tr>\n",
              "      <th>4</th>\n",
              "      <td>5</td>\n",
              "      <td>Roger Federer has made this huge change to ten...</td>\n",
              "      <td>Federer, 37, first broke through on tour over ...</td>\n",
              "      <td>https://www.express.co.uk/sport/tennis/1036101...</td>\n",
              "      <td>[Federer, 37, first broke through on tour over...</td>\n",
              "    </tr>\n",
              "  </tbody>\n",
              "</table>\n",
              "</div>"
            ],
            "text/plain": [
              "   article_id  ...                                          sen_token\n",
              "0           1  ...  [Maria Sharapova has basically no friends as t...\n",
              "1           2  ...  [BASEL, Switzerland (AP) — Roger Federer advan...\n",
              "2           3  ...  [Roger Federer has revealed that organisers of...\n",
              "3           4  ...  [Kei Nishikori will try to end his long losing...\n",
              "4           5  ...  [Federer, 37, first broke through on tour over...\n",
              "\n",
              "[5 rows x 5 columns]"
            ]
          },
          "metadata": {
            "tags": []
          },
          "execution_count": 18
        }
      ]
    },
    {
      "cell_type": "code",
      "metadata": {
        "colab": {
          "base_uri": "https://localhost:8080/"
        },
        "id": "oESrIJQETBJB",
        "outputId": "17ec622b-e3b2-4c6a-8236-a6b532c58a32"
      },
      "source": [
        "# Checking\n",
        "news['sen_token'][0]"
      ],
      "execution_count": 19,
      "outputs": [
        {
          "output_type": "execute_result",
          "data": {
            "text/plain": [
              "['Maria Sharapova has basically no friends as tennis players on the WTA Tour.',\n",
              " \"The Russian player has no problems in openly speaking about it and in a recent interview she said: 'I don't really hide any feelings too much.\",\n",
              " 'I think everyone knows this is my job here.',\n",
              " \"When I'm on the courts or when I'm on the court playing, I'm a competitor and I want to beat every single person whether they're in the locker room or across the net.\",\n",
              " \"So I'm not the one to strike up a conversation about the weather and know that in the next few minutes I have to go and try to win a tennis match.\",\n",
              " \"I'm a pretty competitive girl.\",\n",
              " \"I say my hellos, but I'm not sending any players flowers as well.\",\n",
              " \"Uhm, I'm not really friendly or close to many players.\",\n",
              " \"I have not a lot of friends away from the courts.'\",\n",
              " 'When she said she is not really close to a lot of players, is that something strategic that she is doing?',\n",
              " \"Is it different on the men's tour than the women's tour?\",\n",
              " \"'No, not at all.\",\n",
              " \"I think just because you're in the same sport doesn't mean that you have to be friends with everyone just because you're categorized, you're a tennis player, so you're going to get along with tennis players.\",\n",
              " 'I think every person has different interests.',\n",
              " \"I have friends that have completely different jobs and interests, and I've met them in very different parts of my life.\",\n",
              " \"I think everyone just thinks because we're tennis players we should be the greatest of friends.\",\n",
              " 'But ultimately tennis is just a very small part of what we do.',\n",
              " \"There are so many other things that we're interested in, that we do.'\",\n",
              " 'ALSO READ: Maria Sharapova reveals how tennis keeps her motivated.']"
            ]
          },
          "metadata": {
            "tags": []
          },
          "execution_count": 19
        }
      ]
    },
    {
      "cell_type": "code",
      "metadata": {
        "colab": {
          "base_uri": "https://localhost:8080/"
        },
        "id": "HTVbwAmwggFT",
        "outputId": "d38901a4-0416-4750-a21a-e081b2607921"
      },
      "source": [
        "news['sen_token'][2]"
      ],
      "execution_count": 20,
      "outputs": [
        {
          "output_type": "execute_result",
          "data": {
            "text/plain": [
              "['Roger Federer has revealed that organisers of the re-launched and condensed Davis Cup gave him three days to decide if he would commit to the controversial competition.',\n",
              " 'Speaking at the Swiss Indoors tournament where he will play in Sunday’s final against Romanian qualifier Marius Copil, the world number three said that given the impossibly short time frame to make a decision, he opted out of any commitment.',\n",
              " '“They only left me three days to decide,” Federer said.',\n",
              " '“I didn’t to have time to consult with all the people I had to consult.',\n",
              " '“I could not make a decision in that time, so I told them to do what they wanted.” The 20-time Grand Slam champion has voiced doubts about the wisdom of the one-week format to be introduced by organisers Kosmos, who have promised the International Tennis Federation up to $3 billion in prize money over the next quarter-century.',\n",
              " 'The competition is set to feature 18 countries in the November 18-24 finals in Madrid next year, and will replace the classic home-and-away ties played four times per year for decades.',\n",
              " 'Kosmos is headed by Barcelona footballer Gerard Pique, who is hoping fellow Spaniard Rafael Nadal will play in the upcoming event.',\n",
              " 'Novak Djokovic has said he will give precedence to the ATP’s intended re-launch of the defunct World Team Cup in January 2020, at various Australian venues.',\n",
              " 'Major players feel that a big event in late November combined with one in January before the Australian Open will mean too much tennis and too little rest.',\n",
              " 'Federer said earlier this month in Shanghai in that his chances of playing the Davis Cup were all but non-existent.',\n",
              " '“I highly doubt it, of course.',\n",
              " 'We’ll see what happens,” he said.',\n",
              " '“I don’t think this was designed for me, anyhow.',\n",
              " 'This was designed for the future generation of players.” Argentina and Britain received wild cards to the new-look event, and will compete along with the four 2018 semi-finalists and the 12 teams who win qualifying rounds next February.',\n",
              " '“I don’t like being under that kind of pressure,” Federer said of the deadline Kosmos handed him.']"
            ]
          },
          "metadata": {
            "tags": []
          },
          "execution_count": 20
        }
      ]
    },
    {
      "cell_type": "markdown",
      "metadata": {
        "id": "gLChlXjdarB3"
      },
      "source": [
        "## Text cleaning Part 1"
      ]
    },
    {
      "cell_type": "code",
      "metadata": {
        "id": "RXw8PWPia1uf"
      },
      "source": [
        "# 1. Expanding contractions\n",
        "def fix_contraction(text):\n",
        "  fct = [contractions.fix(s) for s in text]\n",
        "  return fct\n",
        "\n",
        "news['clean_text'] = news['sen_token'].apply(lambda x: fix_contraction(x))"
      ],
      "execution_count": 21,
      "outputs": []
    },
    {
      "cell_type": "code",
      "metadata": {
        "colab": {
          "base_uri": "https://localhost:8080/"
        },
        "id": "aDBev69VbJPQ",
        "outputId": "4747d107-098b-4da1-b529-49b0dbeb91ef"
      },
      "source": [
        "news.head() # Everything is expanded\n",
        "news['clean_text'][1]"
      ],
      "execution_count": 22,
      "outputs": [
        {
          "output_type": "execute_result",
          "data": {
            "text/plain": [
              "['BASEL, Switzerland (AP) — Roger Federer advanced to the 14th Swiss Indoors final of his career by beating seventh-seeded Daniil Medvedev 6-1, 6-4 on Saturday.',\n",
              " 'Seeking a ninth title at his hometown event, and a 99th overall, Federer will play 93th-ranked Marius Copil on Sunday.',\n",
              " 'Federer dominated the 20th-ranked Medvedev and had his first match-point chance to break serve again at 5-1.',\n",
              " \"He then dropped his serve to love, and let another match point slip in Medvedev's next service game by netting a backhand.\",\n",
              " 'He clinched on his fourth chance when Medvedev netted from the baseline.',\n",
              " 'Copil upset expectations of a Federer final against Alexander Zverev in a 6-3, 6-7 (6), 6-4 win over the fifth-ranked German in the earlier semifinal.',\n",
              " 'The Romanian aims for a first title after arriving at Basel without a career win over a top-10 opponent.',\n",
              " 'Copil has two after also beating No.',\n",
              " '6 Marin Cilic in the second round.',\n",
              " 'Copil fired 26 aces past Zverev and never dropped serve, clinching after 2 1/2 hours with a forehand volley winner to break Zverev for the second time in the semifinal.',\n",
              " \"He came through two rounds of qualifying last weekend to reach the Basel main draw, including beating Zverev's older brother, Mischa.\",\n",
              " 'Federer had an easier time than in his only previous match against Medvedev, a three-setter at Shanghai two weeks ago.']"
            ]
          },
          "metadata": {
            "tags": []
          },
          "execution_count": 22
        }
      ]
    },
    {
      "cell_type": "code",
      "metadata": {
        "id": "qXlAEuUIbU02"
      },
      "source": [
        "# 2. To lower case\n",
        "def lower_case(text):\n",
        "  lr =  [s.lower() for s in text]\n",
        "  return lr\n",
        "\n",
        "news['clean_text'] = news['clean_text'].apply(lambda x: lower_case(x))"
      ],
      "execution_count": 23,
      "outputs": []
    },
    {
      "cell_type": "code",
      "metadata": {
        "colab": {
          "base_uri": "https://localhost:8080/"
        },
        "id": "0A7a7AZ5cBjD",
        "outputId": "5ac807db-f786-422e-d70c-8e069d09a099"
      },
      "source": [
        "news['clean_text']\n",
        "news['clean_text'][1]"
      ],
      "execution_count": 24,
      "outputs": [
        {
          "output_type": "execute_result",
          "data": {
            "text/plain": [
              "['basel, switzerland (ap) — roger federer advanced to the 14th swiss indoors final of his career by beating seventh-seeded daniil medvedev 6-1, 6-4 on saturday.',\n",
              " 'seeking a ninth title at his hometown event, and a 99th overall, federer will play 93th-ranked marius copil on sunday.',\n",
              " 'federer dominated the 20th-ranked medvedev and had his first match-point chance to break serve again at 5-1.',\n",
              " \"he then dropped his serve to love, and let another match point slip in medvedev's next service game by netting a backhand.\",\n",
              " 'he clinched on his fourth chance when medvedev netted from the baseline.',\n",
              " 'copil upset expectations of a federer final against alexander zverev in a 6-3, 6-7 (6), 6-4 win over the fifth-ranked german in the earlier semifinal.',\n",
              " 'the romanian aims for a first title after arriving at basel without a career win over a top-10 opponent.',\n",
              " 'copil has two after also beating no.',\n",
              " '6 marin cilic in the second round.',\n",
              " 'copil fired 26 aces past zverev and never dropped serve, clinching after 2 1/2 hours with a forehand volley winner to break zverev for the second time in the semifinal.',\n",
              " \"he came through two rounds of qualifying last weekend to reach the basel main draw, including beating zverev's older brother, mischa.\",\n",
              " 'federer had an easier time than in his only previous match against medvedev, a three-setter at shanghai two weeks ago.']"
            ]
          },
          "metadata": {
            "tags": []
          },
          "execution_count": 24
        }
      ]
    },
    {
      "cell_type": "code",
      "metadata": {
        "colab": {
          "base_uri": "https://localhost:8080/",
          "height": 147
        },
        "id": "UjY7tCMwrLVY",
        "outputId": "a236e1b5-fadd-40d9-d483-ff681e8d8164"
      },
      "source": [
        "news.head(2)"
      ],
      "execution_count": 25,
      "outputs": [
        {
          "output_type": "execute_result",
          "data": {
            "text/html": [
              "<div>\n",
              "<style scoped>\n",
              "    .dataframe tbody tr th:only-of-type {\n",
              "        vertical-align: middle;\n",
              "    }\n",
              "\n",
              "    .dataframe tbody tr th {\n",
              "        vertical-align: top;\n",
              "    }\n",
              "\n",
              "    .dataframe thead th {\n",
              "        text-align: right;\n",
              "    }\n",
              "</style>\n",
              "<table border=\"1\" class=\"dataframe\">\n",
              "  <thead>\n",
              "    <tr style=\"text-align: right;\">\n",
              "      <th></th>\n",
              "      <th>article_id</th>\n",
              "      <th>article_title</th>\n",
              "      <th>article_text</th>\n",
              "      <th>source</th>\n",
              "      <th>sen_token</th>\n",
              "      <th>clean_text</th>\n",
              "    </tr>\n",
              "  </thead>\n",
              "  <tbody>\n",
              "    <tr>\n",
              "      <th>0</th>\n",
              "      <td>1</td>\n",
              "      <td>I do not have friends in tennis, says Maria Sh...</td>\n",
              "      <td>Maria Sharapova has basically no friends as te...</td>\n",
              "      <td>https://www.tennisworldusa.org/tennis/news/Mar...</td>\n",
              "      <td>[Maria Sharapova has basically no friends as t...</td>\n",
              "      <td>[maria sharapova has basically no friends as t...</td>\n",
              "    </tr>\n",
              "    <tr>\n",
              "      <th>1</th>\n",
              "      <td>2</td>\n",
              "      <td>Federer defeats Medvedev to advance to 14th Sw...</td>\n",
              "      <td>BASEL, Switzerland (AP) — Roger Federer advanc...</td>\n",
              "      <td>http://www.tennis.com/pro-game/2018/10/copil-s...</td>\n",
              "      <td>[BASEL, Switzerland (AP) — Roger Federer advan...</td>\n",
              "      <td>[basel, switzerland (ap) — roger federer advan...</td>\n",
              "    </tr>\n",
              "  </tbody>\n",
              "</table>\n",
              "</div>"
            ],
            "text/plain": [
              "   article_id  ...                                         clean_text\n",
              "0           1  ...  [maria sharapova has basically no friends as t...\n",
              "1           2  ...  [basel, switzerland (ap) — roger federer advan...\n",
              "\n",
              "[2 rows x 6 columns]"
            ]
          },
          "metadata": {
            "tags": []
          },
          "execution_count": 25
        }
      ]
    },
    {
      "cell_type": "markdown",
      "metadata": {
        "id": "H5mrWb9PgHE7"
      },
      "source": [
        "## Text cleaning Part 2"
      ]
    },
    {
      "cell_type": "code",
      "metadata": {
        "id": "S4FAtA6uyAUD"
      },
      "source": [
        "# 1. Removing punctuation and special characters\n",
        "def remove_special_char(text):\n",
        "  rsc = [re.sub(r'\\W+', \" \", s) for s in text]\n",
        "  return rsc \n",
        "\n",
        "news['clean_text'] = news['clean_text'].apply(lambda x: remove_special_char(x))"
      ],
      "execution_count": 26,
      "outputs": []
    },
    {
      "cell_type": "code",
      "metadata": {
        "colab": {
          "base_uri": "https://localhost:8080/"
        },
        "id": "ViFfsyxurGCN",
        "outputId": "fe8ac838-54ad-461b-a793-2cc9cb0987dc"
      },
      "source": [
        "news['clean_text'][1]"
      ],
      "execution_count": 27,
      "outputs": [
        {
          "output_type": "execute_result",
          "data": {
            "text/plain": [
              "['basel switzerland ap roger federer advanced to the 14th swiss indoors final of his career by beating seventh seeded daniil medvedev 6 1 6 4 on saturday ',\n",
              " 'seeking a ninth title at his hometown event and a 99th overall federer will play 93th ranked marius copil on sunday ',\n",
              " 'federer dominated the 20th ranked medvedev and had his first match point chance to break serve again at 5 1 ',\n",
              " 'he then dropped his serve to love and let another match point slip in medvedev s next service game by netting a backhand ',\n",
              " 'he clinched on his fourth chance when medvedev netted from the baseline ',\n",
              " 'copil upset expectations of a federer final against alexander zverev in a 6 3 6 7 6 6 4 win over the fifth ranked german in the earlier semifinal ',\n",
              " 'the romanian aims for a first title after arriving at basel without a career win over a top 10 opponent ',\n",
              " 'copil has two after also beating no ',\n",
              " '6 marin cilic in the second round ',\n",
              " 'copil fired 26 aces past zverev and never dropped serve clinching after 2 1 2 hours with a forehand volley winner to break zverev for the second time in the semifinal ',\n",
              " 'he came through two rounds of qualifying last weekend to reach the basel main draw including beating zverev s older brother mischa ',\n",
              " 'federer had an easier time than in his only previous match against medvedev a three setter at shanghai two weeks ago ']"
            ]
          },
          "metadata": {
            "tags": []
          },
          "execution_count": 27
        }
      ]
    },
    {
      "cell_type": "code",
      "metadata": {
        "id": "OyW-btAe9UsA"
      },
      "source": [
        "# 2. Removing numbers\n",
        "def remove_numbers(text):\n",
        "  numb = [re.sub(r'\\d+\\s{1}', \"\", s) for s in text]\n",
        "  return numb\n",
        "\n",
        "news['clean_text'] = news['clean_text'].apply(lambda x: remove_numbers(x))"
      ],
      "execution_count": 28,
      "outputs": []
    },
    {
      "cell_type": "code",
      "metadata": {
        "colab": {
          "base_uri": "https://localhost:8080/"
        },
        "id": "ZcQIXgGa-IIw",
        "outputId": "949a04b6-efe6-4518-8ecf-4b939a66992b"
      },
      "source": [
        "news['clean_text'][1]"
      ],
      "execution_count": 29,
      "outputs": [
        {
          "output_type": "execute_result",
          "data": {
            "text/plain": [
              "['basel switzerland ap roger federer advanced to the 14th swiss indoors final of his career by beating seventh seeded daniil medvedev on saturday ',\n",
              " 'seeking a ninth title at his hometown event and a 99th overall federer will play 93th ranked marius copil on sunday ',\n",
              " 'federer dominated the 20th ranked medvedev and had his first match point chance to break serve again at ',\n",
              " 'he then dropped his serve to love and let another match point slip in medvedev s next service game by netting a backhand ',\n",
              " 'he clinched on his fourth chance when medvedev netted from the baseline ',\n",
              " 'copil upset expectations of a federer final against alexander zverev in a win over the fifth ranked german in the earlier semifinal ',\n",
              " 'the romanian aims for a first title after arriving at basel without a career win over a top opponent ',\n",
              " 'copil has two after also beating no ',\n",
              " 'marin cilic in the second round ',\n",
              " 'copil fired aces past zverev and never dropped serve clinching after hours with a forehand volley winner to break zverev for the second time in the semifinal ',\n",
              " 'he came through two rounds of qualifying last weekend to reach the basel main draw including beating zverev s older brother mischa ',\n",
              " 'federer had an easier time than in his only previous match against medvedev a three setter at shanghai two weeks ago ']"
            ]
          },
          "metadata": {
            "tags": []
          },
          "execution_count": 29
        }
      ]
    },
    {
      "cell_type": "code",
      "metadata": {
        "id": "v6Cb6z1R-PyO"
      },
      "source": [
        "# 3. Removing remaning digits\n",
        "def remove_whitespace(text):\n",
        "  rews = [re.sub(r'\\d+', \"\", s) for s in text]\n",
        "  return rews\n",
        "\n",
        "news['clean_text'] = news['clean_text'].apply(lambda x: remove_whitespace(x))"
      ],
      "execution_count": 30,
      "outputs": []
    },
    {
      "cell_type": "code",
      "metadata": {
        "colab": {
          "base_uri": "https://localhost:8080/"
        },
        "id": "dTF3GEm2PVk7",
        "outputId": "b4a76881-a976-4d9f-fe3c-5fb555eda4bd"
      },
      "source": [
        "news['clean_text'][1]"
      ],
      "execution_count": 31,
      "outputs": [
        {
          "output_type": "execute_result",
          "data": {
            "text/plain": [
              "['basel switzerland ap roger federer advanced to the th swiss indoors final of his career by beating seventh seeded daniil medvedev on saturday ',\n",
              " 'seeking a ninth title at his hometown event and a th overall federer will play th ranked marius copil on sunday ',\n",
              " 'federer dominated the th ranked medvedev and had his first match point chance to break serve again at ',\n",
              " 'he then dropped his serve to love and let another match point slip in medvedev s next service game by netting a backhand ',\n",
              " 'he clinched on his fourth chance when medvedev netted from the baseline ',\n",
              " 'copil upset expectations of a federer final against alexander zverev in a win over the fifth ranked german in the earlier semifinal ',\n",
              " 'the romanian aims for a first title after arriving at basel without a career win over a top opponent ',\n",
              " 'copil has two after also beating no ',\n",
              " 'marin cilic in the second round ',\n",
              " 'copil fired aces past zverev and never dropped serve clinching after hours with a forehand volley winner to break zverev for the second time in the semifinal ',\n",
              " 'he came through two rounds of qualifying last weekend to reach the basel main draw including beating zverev s older brother mischa ',\n",
              " 'federer had an easier time than in his only previous match against medvedev a three setter at shanghai two weeks ago ']"
            ]
          },
          "metadata": {
            "tags": []
          },
          "execution_count": 31
        }
      ]
    },
    {
      "cell_type": "code",
      "metadata": {
        "colab": {
          "base_uri": "https://localhost:8080/"
        },
        "id": "i_tbAvx6FwuR",
        "outputId": "b8b3f46c-bbe0-42d3-aa54-8dab87ec9573"
      },
      "source": [
        "news['clean_text'][2]"
      ],
      "execution_count": 32,
      "outputs": [
        {
          "output_type": "execute_result",
          "data": {
            "text/plain": [
              "['roger federer has revealed that organisers of the re launched and condensed davis cup gave him three days to decide if he would commit to the controversial competition ',\n",
              " 'speaking at the swiss indoors tournament where he will play in sunday s final against romanian qualifier marius copil the world number three said that given the impossibly short time frame to make a decision he opted out of any commitment ',\n",
              " ' they only left me three days to decide federer said ',\n",
              " ' i did not to have time to consult with all the people i had to consult ',\n",
              " ' i could not make a decision in that time so i told them to do what they wanted the time grand slam champion has voiced doubts about the wisdom of the one week format to be introduced by organisers kosmos who have promised the international tennis federation up to billion in prize money over the next quarter century ',\n",
              " 'the competition is set to feature countries in the november finals in madrid next year and will replace the classic home and away ties played four times per year for decades ',\n",
              " 'kosmos is headed by barcelona footballer gerard pique who is hoping fellow spaniard rafael nadal will play in the upcoming event ',\n",
              " 'novak djokovic has said he will give precedence to the atp s intended re launch of the defunct world team cup in january at various australian venues ',\n",
              " 'major players feel that a big event in late november combined with one in january before the australian open will mean too much tennis and too little rest ',\n",
              " 'federer said earlier this month in shanghai in that his chances of playing the davis cup were all but non existent ',\n",
              " ' i highly doubt it of course ',\n",
              " 'we will see what happens he said ',\n",
              " ' i do not think this was designed for me anyhow ',\n",
              " 'this was designed for the future generation of players argentina and britain received wild cards to the new look event and will compete along with the four semi finalists and the teams who win qualifying rounds next february ',\n",
              " ' i do not like being under that kind of pressure federer said of the deadline kosmos handed him ']"
            ]
          },
          "metadata": {
            "tags": []
          },
          "execution_count": 32
        }
      ]
    },
    {
      "cell_type": "markdown",
      "metadata": {
        "id": "nf6DjcR2HCAD"
      },
      "source": [
        "##Removing STOP words"
      ]
    },
    {
      "cell_type": "code",
      "metadata": {
        "id": "GTa3jNZpHMCk"
      },
      "source": [
        "# function to remove stop words\n",
        "def remove_stopwords(text):\n",
        "  resw = \" \".join([i for i in text if i not in stopwords]) \n",
        "  return resw\n",
        "\n",
        "news['clean_text'] = news['clean_text'].apply(lambda x: [remove_stopwords(s.split()) for s in x])"
      ],
      "execution_count": 33,
      "outputs": []
    },
    {
      "cell_type": "code",
      "metadata": {
        "colab": {
          "base_uri": "https://localhost:8080/"
        },
        "id": "FgxYgzyoS3F-",
        "outputId": "8ae0c547-266b-4a7b-d234-1808a79c3ca1"
      },
      "source": [
        "news['clean_text'][2]"
      ],
      "execution_count": 34,
      "outputs": [
        {
          "output_type": "execute_result",
          "data": {
            "text/plain": [
              "['roger federer revealed organisers launched condensed davis cup gave three days decide would commit controversial competition',\n",
              " 'speaking swiss indoors tournament play sunday final romanian qualifier marius copil world number three said given impossibly short time frame make decision opted commitment',\n",
              " 'left three days decide federer said',\n",
              " 'time consult people consult',\n",
              " 'could make decision time told wanted time grand slam champion voiced doubts wisdom one week format introduced organisers kosmos promised international tennis federation billion prize money next quarter century',\n",
              " 'competition set feature countries november finals madrid next year replace classic home away ties played four times per year decades',\n",
              " 'kosmos headed barcelona footballer gerard pique hoping fellow spaniard rafael nadal play upcoming event',\n",
              " 'novak djokovic said give precedence atp intended launch defunct world team cup january various australian venues',\n",
              " 'major players feel big event late november combined one january australian open mean much tennis little rest',\n",
              " 'federer said earlier month shanghai chances playing davis cup non existent',\n",
              " 'highly doubt course',\n",
              " 'see happens said',\n",
              " 'think designed anyhow',\n",
              " 'designed future generation players argentina britain received wild cards new look event compete along four semi finalists teams win qualifying rounds next february',\n",
              " 'like kind pressure federer said deadline kosmos handed']"
            ]
          },
          "metadata": {
            "tags": []
          },
          "execution_count": 34
        }
      ]
    },
    {
      "cell_type": "code",
      "metadata": {
        "colab": {
          "base_uri": "https://localhost:8080/",
          "height": 439
        },
        "id": "Lyyq6J9lY5N0",
        "outputId": "1458f11c-0bdd-4d45-bc74-f17af9ccb670"
      },
      "source": [
        "news"
      ],
      "execution_count": 35,
      "outputs": [
        {
          "output_type": "execute_result",
          "data": {
            "text/html": [
              "<div>\n",
              "<style scoped>\n",
              "    .dataframe tbody tr th:only-of-type {\n",
              "        vertical-align: middle;\n",
              "    }\n",
              "\n",
              "    .dataframe tbody tr th {\n",
              "        vertical-align: top;\n",
              "    }\n",
              "\n",
              "    .dataframe thead th {\n",
              "        text-align: right;\n",
              "    }\n",
              "</style>\n",
              "<table border=\"1\" class=\"dataframe\">\n",
              "  <thead>\n",
              "    <tr style=\"text-align: right;\">\n",
              "      <th></th>\n",
              "      <th>article_id</th>\n",
              "      <th>article_title</th>\n",
              "      <th>article_text</th>\n",
              "      <th>source</th>\n",
              "      <th>sen_token</th>\n",
              "      <th>clean_text</th>\n",
              "    </tr>\n",
              "  </thead>\n",
              "  <tbody>\n",
              "    <tr>\n",
              "      <th>0</th>\n",
              "      <td>1</td>\n",
              "      <td>I do not have friends in tennis, says Maria Sh...</td>\n",
              "      <td>Maria Sharapova has basically no friends as te...</td>\n",
              "      <td>https://www.tennisworldusa.org/tennis/news/Mar...</td>\n",
              "      <td>[Maria Sharapova has basically no friends as t...</td>\n",
              "      <td>[maria sharapova basically friends tennis play...</td>\n",
              "    </tr>\n",
              "    <tr>\n",
              "      <th>1</th>\n",
              "      <td>2</td>\n",
              "      <td>Federer defeats Medvedev to advance to 14th Sw...</td>\n",
              "      <td>BASEL, Switzerland (AP) — Roger Federer advanc...</td>\n",
              "      <td>http://www.tennis.com/pro-game/2018/10/copil-s...</td>\n",
              "      <td>[BASEL, Switzerland (AP) — Roger Federer advan...</td>\n",
              "      <td>[basel switzerland ap roger federer advanced s...</td>\n",
              "    </tr>\n",
              "    <tr>\n",
              "      <th>2</th>\n",
              "      <td>3</td>\n",
              "      <td>Tennis: Roger Federer ignored deadline set by ...</td>\n",
              "      <td>Roger Federer has revealed that organisers of ...</td>\n",
              "      <td>https://scroll.in/field/899938/tennis-roger-fe...</td>\n",
              "      <td>[Roger Federer has revealed that organisers of...</td>\n",
              "      <td>[roger federer revealed organisers launched co...</td>\n",
              "    </tr>\n",
              "    <tr>\n",
              "      <th>3</th>\n",
              "      <td>4</td>\n",
              "      <td>Nishikori to face off against Anderson in Vien...</td>\n",
              "      <td>Kei Nishikori will try to end his long losing ...</td>\n",
              "      <td>http://www.tennis.com/pro-game/2018/10/nishiko...</td>\n",
              "      <td>[Kei Nishikori will try to end his long losing...</td>\n",
              "      <td>[kei nishikori try end long losing streak atp ...</td>\n",
              "    </tr>\n",
              "    <tr>\n",
              "      <th>4</th>\n",
              "      <td>5</td>\n",
              "      <td>Roger Federer has made this huge change to ten...</td>\n",
              "      <td>Federer, 37, first broke through on tour over ...</td>\n",
              "      <td>https://www.express.co.uk/sport/tennis/1036101...</td>\n",
              "      <td>[Federer, 37, first broke through on tour over...</td>\n",
              "      <td>[federer first broke tour two decades ago sinc...</td>\n",
              "    </tr>\n",
              "    <tr>\n",
              "      <th>5</th>\n",
              "      <td>6</td>\n",
              "      <td>Rafael Nadal: World No 1 ARRIVES for Paris Mas...</td>\n",
              "      <td>Nadal has not played tennis since he was force...</td>\n",
              "      <td>https://www.express.co.uk/sport/tennis/1037119...</td>\n",
              "      <td>[Nadal has not played tennis since he was forc...</td>\n",
              "      <td>[nadal played tennis since forced retire us op...</td>\n",
              "    </tr>\n",
              "    <tr>\n",
              "      <th>6</th>\n",
              "      <td>7</td>\n",
              "      <td>TENNIS.COM PODCAST: POINT DEFENSE, RANKING DRO...</td>\n",
              "      <td>Tennis giveth, and tennis taketh away. The end...</td>\n",
              "      <td>http://www.tennis.com/pro-game/2018/10/tennisc...</td>\n",
              "      <td>[Tennis giveth, and tennis taketh away., The e...</td>\n",
              "      <td>[tennis giveth tennis taketh away, end season ...</td>\n",
              "    </tr>\n",
              "    <tr>\n",
              "      <th>7</th>\n",
              "      <td>8</td>\n",
              "      <td>Tennis journalist’s heartbreaking insight on T...</td>\n",
              "      <td>I PLAYED golf last week with Todd Reid. He pic...</td>\n",
              "      <td>https://www.foxsports.com.au/tennis/tennis-jou...</td>\n",
              "      <td>[I PLAYED golf last week with Todd Reid., He p...</td>\n",
              "      <td>[played golf last week todd reid, picked half ...</td>\n",
              "    </tr>\n",
              "  </tbody>\n",
              "</table>\n",
              "</div>"
            ],
            "text/plain": [
              "   article_id  ...                                         clean_text\n",
              "0           1  ...  [maria sharapova basically friends tennis play...\n",
              "1           2  ...  [basel switzerland ap roger federer advanced s...\n",
              "2           3  ...  [roger federer revealed organisers launched co...\n",
              "3           4  ...  [kei nishikori try end long losing streak atp ...\n",
              "4           5  ...  [federer first broke tour two decades ago sinc...\n",
              "5           6  ...  [nadal played tennis since forced retire us op...\n",
              "6           7  ...  [tennis giveth tennis taketh away, end season ...\n",
              "7           8  ...  [played golf last week todd reid, picked half ...\n",
              "\n",
              "[8 rows x 6 columns]"
            ]
          },
          "metadata": {
            "tags": []
          },
          "execution_count": 35
        }
      ]
    },
    {
      "cell_type": "markdown",
      "metadata": {
        "id": "20Qo2zaiamLN"
      },
      "source": [
        "## Word Embeddings"
      ]
    },
    {
      "cell_type": "markdown",
      "metadata": {
        "id": "azLVYLXCa8NL"
      },
      "source": [
        "### Downloading word embeddings\n",
        "Wll be using Glove embeddings"
      ]
    },
    {
      "cell_type": "code",
      "metadata": {
        "colab": {
          "base_uri": "https://localhost:8080/"
        },
        "id": "rPczMOfWat_7",
        "outputId": "04d44280-59e1-49c7-c10e-a1757440c06f"
      },
      "source": [
        "!wget http://nlp.stanford.edu/data/glove.6B.zip\n",
        "!unzip glove*.zip"
      ],
      "execution_count": 36,
      "outputs": [
        {
          "output_type": "stream",
          "text": [
            "--2021-08-15 14:48:00--  http://nlp.stanford.edu/data/glove.6B.zip\n",
            "Resolving nlp.stanford.edu (nlp.stanford.edu)... 171.64.67.140\n",
            "Connecting to nlp.stanford.edu (nlp.stanford.edu)|171.64.67.140|:80... connected.\n",
            "HTTP request sent, awaiting response... 302 Found\n",
            "Location: https://nlp.stanford.edu/data/glove.6B.zip [following]\n",
            "--2021-08-15 14:48:00--  https://nlp.stanford.edu/data/glove.6B.zip\n",
            "Connecting to nlp.stanford.edu (nlp.stanford.edu)|171.64.67.140|:443... connected.\n",
            "HTTP request sent, awaiting response... 301 Moved Permanently\n",
            "Location: http://downloads.cs.stanford.edu/nlp/data/glove.6B.zip [following]\n",
            "--2021-08-15 14:48:01--  http://downloads.cs.stanford.edu/nlp/data/glove.6B.zip\n",
            "Resolving downloads.cs.stanford.edu (downloads.cs.stanford.edu)... 171.64.64.22\n",
            "Connecting to downloads.cs.stanford.edu (downloads.cs.stanford.edu)|171.64.64.22|:80... connected.\n",
            "HTTP request sent, awaiting response... 200 OK\n",
            "Length: 862182613 (822M) [application/zip]\n",
            "Saving to: ‘glove.6B.zip.2’\n",
            "\n",
            "glove.6B.zip.2        3%[                    ]  26.43M  18.4MB/s               ^C\n",
            "Archive:  glove.6B.zip\n",
            "replace glove.6B.50d.txt? [y]es, [n]o, [A]ll, [N]one, [r]ename: n\n",
            "replace glove.6B.100d.txt? [y]es, [n]o, [A]ll, [N]one, [r]ename: n\n",
            "replace glove.6B.200d.txt? [y]es, [n]o, [A]ll, [N]one, [r]ename: n\n",
            "replace glove.6B.300d.txt? [y]es, [n]o, [A]ll, [N]one, [r]ename: n\n"
          ],
          "name": "stdout"
        }
      ]
    },
    {
      "cell_type": "code",
      "metadata": {
        "id": "JFSYIvG2bW4Z"
      },
      "source": [
        "# Extracting word embeddigs\n",
        "word_embeddings = {}\n",
        "f = open('glove.6B.100d.txt', encoding = 'utf-8')\n",
        "for line in f:\n",
        "  values = line.split()\n",
        "  word = values[0]\n",
        "  coefs = np.asarray(values[1:], dtype = 'float32')\n",
        "  word_embeddings[word] = coefs\n",
        "f.close()"
      ],
      "execution_count": 37,
      "outputs": []
    },
    {
      "cell_type": "code",
      "metadata": {
        "colab": {
          "base_uri": "https://localhost:8080/"
        },
        "id": "dfcOMoMbdl4M",
        "outputId": "251dc03a-0100-43b4-a472-e67b91b11aba"
      },
      "source": [
        "len(word_embeddings)"
      ],
      "execution_count": 38,
      "outputs": [
        {
          "output_type": "execute_result",
          "data": {
            "text/plain": [
              "400000"
            ]
          },
          "metadata": {
            "tags": []
          },
          "execution_count": 38
        }
      ]
    },
    {
      "cell_type": "markdown",
      "metadata": {
        "id": "2EBo8U8ueC_2"
      },
      "source": [
        "###Creating vectors for sentences\n",
        "We will create the vectors of size 100"
      ]
    },
    {
      "cell_type": "code",
      "metadata": {
        "colab": {
          "base_uri": "https://localhost:8080/",
          "height": 300
        },
        "id": "ET3b4towf8wL",
        "outputId": "c5b8d23c-ec27-429c-90ac-34a1360497ec"
      },
      "source": [
        "def vectorizing(article):\n",
        "  article_vector = []\n",
        "  for sen in article:\n",
        "    if len(sen) != 0:\n",
        "      v = sum([word_embeddings.get(w, np.zeros((100,))) for w in sen.split()]) / (len(sen.split()) + 0.001)\n",
        "    else:\n",
        "      v = np.zeros((100,))\n",
        "    article_vector.append(v)\n",
        "  return article_vector\n",
        "\n",
        "a = news['clean_text'].apply(lambda x: vectorizing(x))\n",
        "vect_df = pd.DataFrame(a)\n",
        "vect_df"
      ],
      "execution_count": 39,
      "outputs": [
        {
          "output_type": "execute_result",
          "data": {
            "text/html": [
              "<div>\n",
              "<style scoped>\n",
              "    .dataframe tbody tr th:only-of-type {\n",
              "        vertical-align: middle;\n",
              "    }\n",
              "\n",
              "    .dataframe tbody tr th {\n",
              "        vertical-align: top;\n",
              "    }\n",
              "\n",
              "    .dataframe thead th {\n",
              "        text-align: right;\n",
              "    }\n",
              "</style>\n",
              "<table border=\"1\" class=\"dataframe\">\n",
              "  <thead>\n",
              "    <tr style=\"text-align: right;\">\n",
              "      <th></th>\n",
              "      <th>clean_text</th>\n",
              "    </tr>\n",
              "  </thead>\n",
              "  <tbody>\n",
              "    <tr>\n",
              "      <th>0</th>\n",
              "      <td>[[0.05148256, 0.11054468, 0.6949994, 0.1891681...</td>\n",
              "    </tr>\n",
              "    <tr>\n",
              "      <th>1</th>\n",
              "      <td>[[0.10586457, -0.104832724, 0.5098503, 0.25731...</td>\n",
              "    </tr>\n",
              "    <tr>\n",
              "      <th>2</th>\n",
              "      <td>[[-0.014404414, 0.00031916526, 0.118812695, -0...</td>\n",
              "    </tr>\n",
              "    <tr>\n",
              "      <th>3</th>\n",
              "      <td>[[0.04519946, -0.06464375, 0.5035452, -0.16035...</td>\n",
              "    </tr>\n",
              "    <tr>\n",
              "      <th>4</th>\n",
              "      <td>[[0.21534438, 0.18089992, 0.2559875, 0.0692366...</td>\n",
              "    </tr>\n",
              "    <tr>\n",
              "      <th>5</th>\n",
              "      <td>[[0.03523205, -0.03176445, 0.36155656, -0.1280...</td>\n",
              "    </tr>\n",
              "    <tr>\n",
              "      <th>6</th>\n",
              "      <td>[[-0.115314946, -0.006283154, 0.595066, -0.160...</td>\n",
              "    </tr>\n",
              "    <tr>\n",
              "      <th>7</th>\n",
              "      <td>[[-0.15236476, 0.05248125, 0.46090904, -0.5684...</td>\n",
              "    </tr>\n",
              "  </tbody>\n",
              "</table>\n",
              "</div>"
            ],
            "text/plain": [
              "                                          clean_text\n",
              "0  [[0.05148256, 0.11054468, 0.6949994, 0.1891681...\n",
              "1  [[0.10586457, -0.104832724, 0.5098503, 0.25731...\n",
              "2  [[-0.014404414, 0.00031916526, 0.118812695, -0...\n",
              "3  [[0.04519946, -0.06464375, 0.5035452, -0.16035...\n",
              "4  [[0.21534438, 0.18089992, 0.2559875, 0.0692366...\n",
              "5  [[0.03523205, -0.03176445, 0.36155656, -0.1280...\n",
              "6  [[-0.115314946, -0.006283154, 0.595066, -0.160...\n",
              "7  [[-0.15236476, 0.05248125, 0.46090904, -0.5684..."
            ]
          },
          "metadata": {
            "tags": []
          },
          "execution_count": 39
        }
      ]
    },
    {
      "cell_type": "code",
      "metadata": {
        "colab": {
          "base_uri": "https://localhost:8080/"
        },
        "id": "zDswJNyWnfrs",
        "outputId": "95104182-4139-4c5b-89e5-3a3a557a08e9"
      },
      "source": [
        "vect_df['clean_text'][0]"
      ],
      "execution_count": 40,
      "outputs": [
        {
          "output_type": "execute_result",
          "data": {
            "text/plain": [
              "[array([ 5.14825583e-02,  1.10544682e-01,  6.94999397e-01,  1.89168096e-01,\n",
              "        -9.58077684e-02,  3.20288986e-01,  2.70662010e-01,  5.42440832e-01,\n",
              "        -3.05938005e-01, -1.56364068e-01,  3.70127618e-01,  8.09492469e-02,\n",
              "         8.41393881e-03,  2.47571543e-01, -3.69342804e-01, -7.61044994e-02,\n",
              "         8.08582604e-02,  2.30643645e-01, -2.70402402e-01,  5.13828397e-01,\n",
              "        -6.12548441e-02,  3.87900352e-01,  1.03121363e-01,  7.72494674e-01,\n",
              "         2.59960234e-01, -7.96069205e-02,  1.42143592e-01, -9.62644577e-01,\n",
              "         7.54904330e-01,  6.03260659e-02, -4.58570123e-01,  2.36780301e-01,\n",
              "         2.29152635e-01, -1.56453326e-01,  3.97632688e-01, -2.32720934e-02,\n",
              "        -5.05520999e-01,  4.13252831e-01, -2.85759270e-01, -1.35231465e-01,\n",
              "        -1.37098104e-01, -1.48972601e-01,  3.37537557e-01, -3.49540442e-01,\n",
              "         1.53484434e-01, -2.33341649e-01, -1.98460802e-01, -1.27821520e-01,\n",
              "         5.08063912e-01, -3.68636876e-01, -2.28472307e-01, -3.15306723e-01,\n",
              "         1.36149466e-01,  2.22507194e-01,  1.19500056e-01, -1.71007359e+00,\n",
              "        -1.04403630e-01,  3.45346779e-01,  5.54419458e-01,  7.91236103e-01,\n",
              "        -2.63593912e-01,  5.01183808e-01, -1.54918820e-01,  2.39762396e-01,\n",
              "        -4.94388118e-02, -1.39404953e-01, -6.96142530e-03,  4.52243447e-01,\n",
              "         1.44498184e-01, -1.88242078e-01,  1.62694290e-01,  2.51032356e-02,\n",
              "        -1.29925504e-01, -2.16523811e-01, -1.39851749e-01,  1.79708660e-01,\n",
              "         4.75623786e-01,  6.25944212e-02, -1.11897260e-01, -1.08534172e-01,\n",
              "         6.22914493e-01, -2.60313332e-01, -1.83883741e-01,  1.65396854e-02,\n",
              "        -1.04412448e+00, -3.77867967e-01, -6.96135521e-01,  2.54875660e-01,\n",
              "        -2.14379832e-01, -6.60440326e-02, -3.04694414e-01, -2.49966215e-02,\n",
              "         3.12481433e-01,  1.38415188e-01,  1.15484960e-01,  9.44008352e-04,\n",
              "        -3.47184688e-01, -5.04137203e-02,  3.52187961e-01,  5.41942239e-01],\n",
              "       dtype=float32),\n",
              " array([-8.46056044e-02,  1.69623360e-01,  4.33749944e-01, -8.58418122e-02,\n",
              "        -1.70975417e-01,  1.32896423e-01, -2.54114658e-01, -1.70107469e-01,\n",
              "         2.79757172e-01,  6.33887276e-02, -2.04101473e-01,  7.64638111e-02,\n",
              "         2.85677612e-01, -9.00602564e-02, -1.14498213e-01, -9.90290865e-02,\n",
              "        -1.34927511e-01, -2.71166232e-03, -4.13565874e-01,  6.32358193e-02,\n",
              "         4.55082878e-02,  1.91257671e-01, -1.39448941e-01, -1.13781996e-03,\n",
              "        -9.70350802e-02, -1.26338288e-01, -5.15491217e-02, -3.08907747e-01,\n",
              "         3.43927354e-01,  2.86936820e-01, -2.22957656e-01,  4.46837395e-01,\n",
              "        -1.11253977e-01, -7.21814632e-02,  1.37357712e-01,  1.71515450e-01,\n",
              "         5.39051816e-02,  2.76359648e-01, -2.55537611e-02, -1.31975263e-02,\n",
              "        -4.84045923e-01, -1.34829834e-01,  2.57399052e-01, -1.33780092e-01,\n",
              "        -2.33958840e-01, -1.68721929e-01,  2.29427516e-01, -3.33674073e-01,\n",
              "        -2.39330102e-02, -7.64521301e-01,  2.71977514e-01, -9.60583910e-02,\n",
              "         1.57525614e-01,  8.85156214e-01,  7.10327327e-02, -2.03570867e+00,\n",
              "        -1.80776988e-03, -4.46026996e-02,  1.09610200e+00,  6.00932598e-01,\n",
              "         5.10914959e-02,  6.43380463e-01, -1.95136487e-01, -2.53053159e-01,\n",
              "         5.12441456e-01, -1.18844092e-01,  7.67922759e-01,  3.14244449e-01,\n",
              "         1.05630115e-01,  1.20346867e-01,  4.58597504e-02, -1.99755028e-01,\n",
              "        -5.46125360e-02, -3.42823893e-01,  1.62033841e-01,  1.79106459e-01,\n",
              "        -1.02332883e-01,  8.30606744e-02, -8.31462383e-01,  1.88096136e-01,\n",
              "         5.75160027e-01, -1.42058209e-01, -1.52435631e-01,  4.44296300e-02,\n",
              "        -1.37316966e+00, -4.73973423e-01, -1.71549603e-01,  1.90661609e-01,\n",
              "        -4.02716398e-01, -3.76091152e-01,  7.99129903e-02, -1.23995073e-01,\n",
              "        -5.62082306e-02,  4.33755154e-03, -3.11803013e-01,  2.47871682e-01,\n",
              "        -4.21591938e-01, -1.58220693e-01,  2.43690088e-01,  3.16631943e-01],\n",
              "       dtype=float32),\n",
              " array([ 0.14814992,  0.42450237,  0.66031396, -0.50417393, -0.5469658 ,\n",
              "        -0.00374532, -0.34379405,  0.06937566,  0.21661384, -0.25974503,\n",
              "         0.20404723,  0.01673731,  0.20149764, -0.18390428, -0.16559835,\n",
              "        -0.2341762 , -0.17212947,  0.49136218, -0.31177458,  0.74418145,\n",
              "        -0.18031242,  0.3262372 , -0.45182955, -0.7707923 , -0.02366783,\n",
              "        -0.02707573, -0.3201275 , -0.7713147 ,  0.16806799, -0.3940265 ,\n",
              "        -0.31288004,  0.8974081 ,  0.29378405, -0.12754712,  0.05665586,\n",
              "         0.21961085, -0.46683055,  0.22177458,  0.32623097, -0.42606848,\n",
              "        -0.48414147, -0.00424944,  0.3133517 , -0.43068507, -0.6857036 ,\n",
              "         0.02652912,  0.06604849, -0.34907773, -0.22533447, -1.0924069 ,\n",
              "         0.33661583, -0.3544689 , -0.15569359,  0.90959007,  0.0343869 ,\n",
              "        -2.1660836 ,  0.2722964 ,  0.05013596,  1.0515397 ,  0.39743316,\n",
              "         0.02675331,  0.63957894, -0.36675334, -0.33103722,  0.6579705 ,\n",
              "         0.18743566,  0.76987755,  0.2600585 , -0.17596602,  0.2132558 ,\n",
              "         0.32667834, -0.23908748, -0.18517545, -0.33671084,  0.49401543,\n",
              "         0.13753437, -0.0221967 , -0.20622244, -0.28788054,  0.01924269,\n",
              "         0.49343413, -0.00334942, -0.74373406, -0.10449113, -1.408343  ,\n",
              "        -0.46371406, -0.34590355, -0.08561609, -0.4305524 , -0.55984503,\n",
              "         0.20258684, -0.22031265,  0.34533992, -0.13551362, -0.4867883 ,\n",
              "         0.16012523, -0.03195333,  0.06459635,  0.19997576,  0.70649344],\n",
              "       dtype=float32),\n",
              " array([ 1.69021279e-01,  2.50139266e-01,  4.42552507e-01, -1.04366541e-01,\n",
              "        -4.09110188e-02,  5.69921315e-01, -1.23108834e-01,  2.52042532e-01,\n",
              "        -1.85836047e-01, -1.48737296e-01,  1.29606485e-01, -3.40965055e-02,\n",
              "         1.43816203e-01, -2.67473795e-02, -8.80325809e-02, -1.24453746e-01,\n",
              "        -4.66870852e-02,  3.43031824e-01, -3.69550020e-01,  1.39716223e-01,\n",
              "         3.07693660e-01,  1.05931081e-01,  2.38547891e-01, -6.60233498e-02,\n",
              "         1.71778426e-01, -2.25549743e-01,  1.01794295e-01, -5.46716511e-01,\n",
              "         1.51504695e-01,  7.54743218e-02,  1.02907293e-01,  4.57350135e-01,\n",
              "         2.03635648e-01,  4.60960418e-02,  2.63918668e-01,  1.09472096e-01,\n",
              "        -4.25723851e-01,  2.00691953e-01,  1.39941707e-01, -2.65586734e-01,\n",
              "        -6.99969828e-02, -3.52222681e-01,  1.03769228e-01, -2.99944758e-01,\n",
              "         2.50003510e-03,  8.41871428e-04,  5.35686016e-02, -2.43286908e-01,\n",
              "         4.71394844e-02, -7.56808758e-01,  6.77560940e-02, -3.64327393e-02,\n",
              "         2.31981296e-02,  8.42515469e-01, -6.64762631e-02, -2.05171466e+00,\n",
              "        -4.29907218e-02, -8.16753358e-02,  1.50755441e+00,  5.08815408e-01,\n",
              "        -1.75782651e-01,  4.33649749e-01, -2.41155609e-01,  1.58587158e-01,\n",
              "         4.06098366e-01,  4.04079705e-02,  3.96703511e-01,  3.32848877e-01,\n",
              "        -2.31689155e-01,  1.59929246e-02,  3.10561340e-02, -1.61660090e-01,\n",
              "         1.70214415e-01, -2.18465909e-01,  1.90254971e-01,  9.87134576e-02,\n",
              "        -1.02293760e-01, -3.54948014e-01, -2.51804948e-01,  3.99968587e-02,\n",
              "         4.86735851e-01, -4.99123596e-02, -3.39137673e-01,  4.05942497e-04,\n",
              "        -1.16225123e+00, -3.98655653e-01, -2.13086158e-02,  5.62486798e-02,\n",
              "        -2.15008203e-02, -2.34768957e-01, -4.64403182e-02, -1.29117757e-01,\n",
              "        -5.97917289e-02, -8.65162686e-02, -2.34236613e-01,  1.25503108e-01,\n",
              "        -5.43111004e-02,  3.87051073e-03,  6.31188750e-01,  8.45000297e-02],\n",
              "       dtype=float32),\n",
              " array([-1.8341489e-01,  1.2831621e-01,  5.0931311e-01, -1.3811032e-01,\n",
              "        -3.4622315e-01,  1.8791343e-01,  2.0908757e-01,  3.6863771e-01,\n",
              "        -3.8949645e-01, -1.1909272e-01,  3.2072636e-01, -5.4539781e-02,\n",
              "        -3.8138229e-02, -5.2144650e-02,  2.7895842e-02, -4.4482041e-02,\n",
              "        -1.6685804e-02,  1.7388143e-01, -4.4792983e-01,  2.8020996e-01,\n",
              "         3.0666271e-01,  1.8572709e-01,  2.6922113e-01, -8.8407630e-03,\n",
              "         3.0154496e-01,  1.4490462e-02, -2.3062626e-01, -3.8010892e-01,\n",
              "         3.4665027e-01, -1.9098549e-01, -5.7717365e-01,  3.9311635e-01,\n",
              "         4.6413634e-02, -1.1843696e-01,  7.9108991e-02,  1.7354645e-01,\n",
              "        -3.7111574e-01,  2.1109748e-01, -1.3688117e-01, -1.0653570e-01,\n",
              "        -2.6001939e-01, -2.2890408e-01,  1.8207566e-01, -5.0755650e-01,\n",
              "        -5.0616615e-02, -7.2164230e-02,  9.0660147e-02, -4.0331975e-01,\n",
              "         1.4107390e-01, -8.3603531e-01, -2.0840269e-02, -1.1567719e-01,\n",
              "         3.1989578e-02,  1.0197333e+00,  1.3251679e-01, -2.3046994e+00,\n",
              "        -2.1024767e-01,  2.3154835e-01,  1.3449069e+00,  5.8240014e-01,\n",
              "        -4.2677251e-01,  6.4757490e-01, -3.1263277e-01, -9.5509253e-02,\n",
              "         4.4512841e-01,  1.0486276e-01,  8.0766253e-02,  3.0767179e-01,\n",
              "        -2.9260454e-01, -2.5117666e-01, -8.9372300e-02, -2.0875467e-01,\n",
              "         6.6642858e-02, -4.5632267e-01,  1.9161761e-01,  1.8228605e-01,\n",
              "         2.1323906e-03, -3.1843349e-01, -3.4638721e-01,  2.2010383e-01,\n",
              "         6.1544180e-01, -2.3303114e-01, -4.3907836e-01, -8.8253722e-02,\n",
              "        -1.2715913e+00, -3.0631623e-01, -1.9659610e-01,  4.0037942e-01,\n",
              "        -6.8689518e-02, -1.3435023e-01, -8.5176229e-03,  1.3335973e-01,\n",
              "        -4.4167325e-02,  4.0945921e-02, -4.5275810e-01,  9.5881432e-02,\n",
              "         7.7366129e-02,  1.7385183e-01,  2.6858991e-01,  2.3412706e-01],\n",
              "       dtype=float32),\n",
              " array([-1.51949348e-02,  2.30953023e-01,  2.75334895e-01, -2.62705773e-01,\n",
              "        -4.24148649e-01,  6.42053261e-02, -1.62395556e-02,  2.68650472e-01,\n",
              "        -1.36607796e-01, -3.54385264e-02, -1.06021296e-02, -4.96394597e-02,\n",
              "         2.51724780e-01, -1.13888390e-01, -1.00029975e-01,  6.20943084e-02,\n",
              "        -8.92735794e-02,  2.49413550e-01,  1.19463518e-01,  5.56387544e-01,\n",
              "         3.78456444e-01,  3.31889361e-01,  2.17869222e-01, -7.52349123e-02,\n",
              "         1.51103631e-01,  3.00866365e-01, -4.33572143e-01, -9.66094673e-01,\n",
              "        -3.22509170e-01,  3.96415532e-01, -1.21167257e-01,  5.98753750e-01,\n",
              "         5.07392466e-01, -5.52219272e-01,  7.22825706e-01, -2.68313229e-01,\n",
              "        -6.68357313e-01, -8.05668086e-02,  1.29633471e-01, -4.00726438e-01,\n",
              "         1.06351212e-01, -1.96084585e-02, -1.25231575e-02, -2.22553506e-01,\n",
              "        -1.68975681e-01,  2.86204591e-02,  8.96367878e-02,  3.28277260e-01,\n",
              "         2.66879052e-01, -8.83092284e-01, -3.01920682e-01, -4.87037659e-01,\n",
              "         4.46884409e-02,  7.58327186e-01,  2.27626786e-01, -2.03328896e+00,\n",
              "         1.50589794e-01,  2.01816067e-01,  1.12418187e+00,  1.32406533e-01,\n",
              "         9.49004292e-02,  6.92185938e-01, -8.72852445e-01,  2.90975273e-02,\n",
              "         4.72625792e-01, -2.23325603e-02,  5.74876368e-01,  3.41052935e-02,\n",
              "         8.76811147e-02,  3.09743434e-02,  2.67667443e-01, -2.49046758e-01,\n",
              "         4.11855988e-02,  3.12172621e-01,  3.03842068e-01,  6.32475913e-01,\n",
              "         2.07114331e-02, -2.77397513e-01, -3.88419390e-01, -5.33198953e-01,\n",
              "         2.00566471e-01,  2.65443861e-01, -5.56914359e-02,  1.91303249e-02,\n",
              "        -1.10769081e+00, -7.61482894e-01, -3.30833077e-01, -7.29759689e-04,\n",
              "        -3.80017370e-01, -5.08913696e-01, -2.51932703e-02,  2.36316234e-01,\n",
              "        -1.31856063e-02, -1.00980140e-01, -2.20724091e-01,  2.19783083e-01,\n",
              "        -5.90413570e-01, -1.56804413e-01,  1.77140936e-01,  3.46361220e-01],\n",
              "       dtype=float32),\n",
              " array([-2.58728601e-02,  5.28533578e-01,  4.72503006e-02, -2.63157785e-01,\n",
              "        -1.85037538e-01,  2.91034818e-01, -1.37097538e-01, -1.02848448e-01,\n",
              "        -2.01176450e-01, -3.04469734e-01,  3.05609033e-02, -8.18096995e-02,\n",
              "         3.58843535e-01,  1.10572062e-01,  1.29746683e-02, -2.53494769e-01,\n",
              "        -1.30394101e-01,  2.50709027e-01, -1.23364434e-01,  1.64713711e-01,\n",
              "         1.62139582e-03,  8.86535496e-02,  2.31928099e-02,  5.66893928e-02,\n",
              "         5.85075766e-02,  1.45334125e-01, -1.98863849e-01, -1.97372094e-01,\n",
              "         1.54050976e-01, -1.79128975e-01, -3.75928432e-02,  2.02673718e-01,\n",
              "        -2.20788326e-02, -1.62506089e-01,  2.35828355e-01,  4.50208262e-02,\n",
              "        -6.34389445e-02, -9.66497115e-04, -2.18985677e-01, -1.71532899e-01,\n",
              "        -1.59111708e-01, -3.07323277e-01,  9.40339938e-02, -2.16854379e-01,\n",
              "         6.38303608e-02, -1.21859699e-01, -4.89833020e-02, -1.48120224e-02,\n",
              "         1.77952033e-02, -6.04034126e-01,  1.66880518e-01, -1.57083169e-01,\n",
              "        -1.25275955e-01,  7.41938055e-01, -1.14449255e-01, -1.38403761e+00,\n",
              "        -3.99800055e-02, -7.36340657e-02,  1.04773879e+00,  3.55160505e-01,\n",
              "        -2.17553109e-01,  8.50019991e-01, -1.66539595e-01, -9.85402055e-03,\n",
              "         1.73731044e-01, -1.16470583e-01,  5.51509798e-01,  3.73796314e-01,\n",
              "         1.12656228e-01, -3.71652007e-01, -3.19265127e-02, -2.66894519e-01,\n",
              "        -1.67072192e-02, -5.98870218e-01, -3.25335786e-02,  4.81949359e-01,\n",
              "         2.87178848e-02,  1.29998341e-01, -3.16632241e-01,  2.29325108e-02,\n",
              "         8.50319922e-01, -3.77770402e-02, -3.96598935e-01, -2.84626365e-01,\n",
              "        -1.04990911e+00, -2.44329438e-01,  2.24690229e-01, -4.63431142e-02,\n",
              "        -1.54874191e-01, -2.51395125e-02, -1.29011989e-01, -1.09544918e-01,\n",
              "        -2.09355101e-01, -3.13892871e-01, -5.37233293e-01, -8.12107995e-02,\n",
              "        -6.60496771e-01,  3.02979425e-02,  1.75299123e-01,  2.80551612e-01],\n",
              "       dtype=float32),\n",
              " array([-1.62859365e-01,  2.90299952e-01,  3.16645563e-01, -1.59665048e-01,\n",
              "        -4.83902007e-01,  5.89390136e-02,  1.04164295e-01, -1.24423273e-01,\n",
              "        -7.55550712e-02, -2.61416405e-01,  4.81638126e-02, -3.59059900e-01,\n",
              "         2.77637720e-01, -1.78100333e-01,  1.76938191e-01, -1.94532573e-01,\n",
              "         9.57658663e-02,  3.62449475e-02, -1.18625559e-01,  5.73894322e-01,\n",
              "         4.09726679e-01,  3.56652856e-01,  1.23966172e-01, -2.14535922e-01,\n",
              "         8.18251073e-02, -2.41616398e-01, -2.79519856e-01, -3.89681727e-01,\n",
              "         2.04065979e-01, -1.30876498e-02, -7.72481263e-02,  5.09002030e-01,\n",
              "        -7.17397183e-02, -7.21182749e-02,  4.68885213e-01,  4.99233305e-02,\n",
              "        -4.77822050e-02,  1.06907174e-01, -3.82008016e-01, -7.94401020e-02,\n",
              "        -1.57528907e-01, -4.09988344e-01,  3.96241158e-01, -2.08511934e-01,\n",
              "        -2.27628767e-01, -6.20646551e-02,  1.14801534e-01, -4.30427783e-04,\n",
              "         1.82676032e-01, -8.17919791e-01, -7.24174306e-02, -2.08470747e-01,\n",
              "        -2.75316447e-01,  6.50350809e-01, -1.68322608e-01, -1.67767203e+00,\n",
              "        -8.53197649e-04, -4.93465140e-02,  1.00159478e+00,  4.92079675e-01,\n",
              "        -2.09357262e-01,  7.01814532e-01, -1.86720550e-01, -6.75387308e-02,\n",
              "         2.73512095e-01, -2.55789030e-02,  2.51198143e-01,  3.00525159e-01,\n",
              "         2.42295209e-03, -1.57783702e-01,  2.47630402e-01, -1.83774039e-01,\n",
              "         7.10229948e-02, -6.15436435e-01,  4.37498726e-02,  2.84302589e-02,\n",
              "         1.53698713e-01, -1.11737892e-01, -3.54577571e-01,  1.62882864e-01,\n",
              "         6.34375453e-01, -1.13324514e-02, -1.08571902e-01, -2.04094335e-01,\n",
              "        -1.32409430e+00, -8.88300315e-02, -3.98117006e-01,  2.42846191e-01,\n",
              "        -4.37217116e-01, -2.38117173e-01, -1.32302612e-01,  9.90294665e-02,\n",
              "        -6.31584674e-02, -1.52282298e-01, -4.02986199e-01,  1.15631223e-01,\n",
              "        -4.54339296e-01, -2.29623735e-01,  2.79535770e-01,  1.70386612e-01],\n",
              "       dtype=float32),\n",
              " array([ 0.24104375,  0.12306623,  0.32634842, -0.16956511, -0.224022  ,\n",
              "         0.66671085, -0.7403074 ,  0.21959734, -0.06707998, -0.41248187,\n",
              "         0.25100324, -0.00329018,  0.15550862,  0.02710397, -0.23776732,\n",
              "        -0.370979  , -0.13901925,  0.31817797, -0.55909026,  0.5518795 ,\n",
              "         0.25950262,  0.57637095,  0.39584956, -0.41048217, -0.06168208,\n",
              "        -0.04556735, -0.16670083, -0.70130223,  0.21934514,  0.03684579,\n",
              "         0.25546113,  0.25386906,  0.1603599 , -0.00866033,  0.12825543,\n",
              "         0.24463636, -0.26621345,  0.11710472, -0.06700075, -0.0758443 ,\n",
              "        -0.35009795, -0.40068984,  0.11256685, -0.65367657, -0.2524094 ,\n",
              "        -0.32909423, -0.04898526,  0.1811647 ,  0.32104275, -0.5225219 ,\n",
              "        -0.03068833, -0.41489878,  0.09094851,  0.99126726,  0.15736736,\n",
              "        -1.9094627 ,  0.02594076, -0.11118271,  1.4299649 ,  0.45726067,\n",
              "        -0.19966184,  1.0680655 , -0.11626158,  0.10241841,  0.5532142 ,\n",
              "        -0.01284931,  0.40289178,  0.21113348, -0.04540089,  0.01537491,\n",
              "        -0.11402399, -0.16454387,  0.25130844, -0.5405846 ,  0.06922444,\n",
              "         0.22715543,  0.09173182, -0.20500581, -0.37396753,  0.21804725,\n",
              "         0.607788  ,  0.03681255, -0.26776055, -0.06167054, -1.2994251 ,\n",
              "        -0.03100199, -0.37518123,  0.06647588, -0.42091727, -0.3352482 ,\n",
              "        -0.11996276, -0.3282879 ,  0.03865957, -0.0104024 , -0.39140216,\n",
              "        -0.11795551, -0.20538355,  0.25661734,  0.64003   ,  0.4415696 ],\n",
              "       dtype=float32),\n",
              " array([ 2.42556762e-02,  1.91585466e-01,  4.32216644e-01, -2.52976745e-01,\n",
              "        -2.80925572e-01, -3.55560213e-01, -1.39371946e-01,  2.86665920e-04,\n",
              "        -9.25063491e-02, -1.24433659e-01,  2.21810028e-01, -4.02831621e-02,\n",
              "         2.01679334e-01, -1.45522386e-01,  3.73096652e-02, -3.24209958e-01,\n",
              "        -2.53245682e-01,  1.83614790e-01, -4.84565049e-01,  4.58421677e-01,\n",
              "         3.01069856e-01,  4.24084008e-01, -1.80378526e-01, -4.17533189e-01,\n",
              "        -8.28024372e-03, -4.15474959e-02, -8.52875412e-02, -4.98363048e-01,\n",
              "         8.60114172e-02, -5.21492660e-02, -3.54141712e-01,  5.94758093e-01,\n",
              "         1.71603973e-03, -1.33746997e-01,  3.34200829e-01,  4.96243350e-02,\n",
              "        -4.68928739e-02,  3.62201542e-01, -6.37499522e-03, -1.53245687e-01,\n",
              "        -2.13869035e-01, -2.26746172e-01,  4.16741878e-01, -3.93372864e-01,\n",
              "        -4.32158291e-01, -5.07090427e-02,  2.26316825e-01, -9.01343394e-03,\n",
              "        -2.42991582e-01, -9.66836572e-01,  1.79266095e-01, -3.21795464e-01,\n",
              "        -1.93426654e-01,  7.96500504e-01, -3.03493813e-02, -2.34997869e+00,\n",
              "         7.27310404e-02, -8.77520442e-02,  1.35656333e+00,  6.05509222e-01,\n",
              "        -1.21027566e-01,  8.88882935e-01, -4.38715905e-01,  8.84516537e-02,\n",
              "         4.54913020e-01, -1.21089846e-01,  6.83541000e-01,  4.37015593e-01,\n",
              "         6.81128427e-02,  1.86701864e-02,  2.49134392e-01, -3.30364376e-01,\n",
              "         1.55094847e-01, -5.94704151e-01,  2.66943723e-01,  4.91857110e-03,\n",
              "        -2.62249671e-02,  4.95580658e-02, -7.03355193e-01,  2.71118134e-01,\n",
              "         6.87107146e-01, -2.40021460e-02, -5.20057559e-01, -1.19835563e-01,\n",
              "        -1.33529353e+00, -2.01675043e-01, -3.39957624e-04,  5.21615893e-02,\n",
              "        -3.92523497e-01, -4.15630788e-01, -6.85689272e-03,  7.24109337e-02,\n",
              "        -4.50448506e-02, -1.56480491e-01, -5.25884330e-01,  2.18420371e-01,\n",
              "        -2.41560057e-01, -1.99890599e-01,  1.97309539e-01,  7.48844385e-01],\n",
              "       dtype=float32),\n",
              " array([ 0.14655069,  0.34374526,  0.32507718, -0.07232994,  0.08871686,\n",
              "         0.35947415,  0.28422055,  0.7883484 , -0.6572346 ,  0.06513118,\n",
              "         0.11985283, -0.07987602,  0.504769  ,  0.18137372, -0.17395921,\n",
              "         0.03836792,  0.24141972, -0.11861248, -0.6466067 ,  0.12568486,\n",
              "         0.5576805 ,  0.07137993,  0.24266347,  0.335113  , -0.03284143,\n",
              "        -0.11493864,  0.2869334 , -0.8442571 ,  0.68678665, -0.28883025,\n",
              "        -0.3020556 ,  0.1460278 , -0.19064291, -0.30805638,  0.60939014,\n",
              "         0.08740252, -0.40993404,  0.8347568 , -0.55927235,  0.21049112,\n",
              "        -0.46041188, -0.04771065,  0.31120455, -0.11008918, -0.00834194,\n",
              "        -0.0360078 , -0.06460588, -0.15042171,  0.03572765, -0.79981005,\n",
              "        -0.38245752, -0.15184364,  0.02469586,  0.8678783 ,  0.08626554,\n",
              "        -2.2610078 , -0.1235815 ,  0.25363147,  1.2868828 ,  0.7029874 ,\n",
              "        -0.37281346,  0.875321  ,  0.47034395, -0.06719477,  0.5881744 ,\n",
              "         0.12787843,  0.05199499,  0.26082143,  0.28477466, -0.2895727 ,\n",
              "         0.00311558, -0.20167366, -0.39513096,  0.04506318,  0.0535933 ,\n",
              "         0.47281504,  0.33170766, -0.12626275, -0.3347411 , -0.61942613,\n",
              "         0.5172925 , -0.02304379,  0.07188362,  0.24251594, -1.4620876 ,\n",
              "        -0.2475945 , -0.6076884 , -0.26895723, -0.07321537,  0.20821796,\n",
              "        -0.3780402 , -0.04570886,  0.4123615 , -0.12977225, -0.1819376 ,\n",
              "         0.00497101, -1.0040032 ,  0.11995062,  0.6657209 ,  0.36487505],\n",
              "       dtype=float32),\n",
              " array([0., 0., 0., 0., 0., 0., 0., 0., 0., 0., 0., 0., 0., 0., 0., 0., 0.,\n",
              "        0., 0., 0., 0., 0., 0., 0., 0., 0., 0., 0., 0., 0., 0., 0., 0., 0.,\n",
              "        0., 0., 0., 0., 0., 0., 0., 0., 0., 0., 0., 0., 0., 0., 0., 0., 0.,\n",
              "        0., 0., 0., 0., 0., 0., 0., 0., 0., 0., 0., 0., 0., 0., 0., 0., 0.,\n",
              "        0., 0., 0., 0., 0., 0., 0., 0., 0., 0., 0., 0., 0., 0., 0., 0., 0.,\n",
              "        0., 0., 0., 0., 0., 0., 0., 0., 0., 0., 0., 0., 0., 0., 0.]),\n",
              " array([ 0.04171661,  0.44301948,  0.62926847, -0.18523674, -0.28929153,\n",
              "         0.3376127 , -0.04269671,  0.26861173, -0.17765757, -0.25455686,\n",
              "         0.25822935, -0.11828683,  0.21811476, -0.0988251 , -0.12263127,\n",
              "        -0.1648827 ,  0.07208268,  0.3849804 , -0.42409548,  0.540986  ,\n",
              "        -0.00789763,  0.4140524 ,  0.09797845, -0.0763665 ,  0.16127682,\n",
              "        -0.03848219, -0.13089938, -0.8198408 ,  0.42107484,  0.02314307,\n",
              "        -0.34699112,  0.600227  , -0.00715668, -0.18996876,  0.40121254,\n",
              "         0.12890269, -0.39080587,  0.3834794 , -0.30588508, -0.23668489,\n",
              "        -0.12856843, -0.12532336,  0.13803254, -0.53098303, -0.13071686,\n",
              "         0.06082716,  0.103736  , -0.02045779,  0.08284139, -0.8398246 ,\n",
              "        -0.06709784, -0.2075887 , -0.09419651,  0.70013   ,  0.10666203,\n",
              "        -1.9053111 ,  0.0227378 ,  0.32445684,  1.2151272 ,  0.601356  ,\n",
              "        -0.24189632,  0.774665  , -0.3805028 ,  0.08318637,  0.42657948,\n",
              "        -0.02388009,  0.30922246,  0.28615835,  0.0587547 , -0.01632748,\n",
              "         0.09320674, -0.29423112,  0.04669133, -0.27821007,  0.07500874,\n",
              "         0.08339042,  0.3024995 , -0.08904799, -0.16017766, -0.08855288,\n",
              "         0.5345704 , -0.10539634, -0.34465578, -0.23357265, -1.1089146 ,\n",
              "        -0.24943236, -0.4626592 , -0.06085094, -0.24030611, -0.22282138,\n",
              "        -0.2410303 , -0.02666185, -0.02214161, -0.15087217, -0.15990452,\n",
              "        -0.03709937, -0.34481564,  0.01450415,  0.55397016,  0.46224722],\n",
              "       dtype=float32),\n",
              " array([-2.97364909e-02,  5.76976657e-01,  3.52086008e-01,  8.83702934e-03,\n",
              "        -5.63657209e-02,  3.78576279e-01, -1.02638066e-01,  3.87846380e-02,\n",
              "         6.91775754e-02,  2.14769058e-02, -4.19409163e-02, -9.35174972e-02,\n",
              "         4.43906426e-01, -2.00469911e-01, -1.55440912e-01, -2.02851832e-01,\n",
              "        -1.92987397e-01,  3.20249945e-01, -6.23789251e-01,  3.87436509e-01,\n",
              "         2.35015005e-01, -2.31063776e-02, -2.59288084e-02, -5.69332123e-01,\n",
              "        -2.06558648e-02, -2.11739257e-01,  1.30805850e-01, -4.98014420e-01,\n",
              "         1.13085397e-01, -1.13437288e-02,  1.40571827e-02,  9.14769053e-01,\n",
              "         1.83115393e-01, -4.23357129e-01,  2.32591078e-01,  1.93379328e-01,\n",
              "        -3.51737678e-01,  2.96662450e-01,  6.78164363e-02, -2.74369121e-01,\n",
              "        -3.70036006e-01, -2.44304150e-01,  1.20336942e-01, -1.88670933e-01,\n",
              "        -4.30841863e-01, -1.05296746e-01,  3.95464897e-02, -2.30429724e-01,\n",
              "        -5.79580069e-01, -9.42181587e-01,  2.40271971e-01, -4.28290181e-02,\n",
              "         1.28698260e-01,  9.62339580e-01,  1.05198985e-02, -1.91729462e+00,\n",
              "         3.28946233e-01, -7.14830011e-02,  1.66746652e+00,  4.18006420e-01,\n",
              "        -1.23921216e-01,  9.53921258e-01, -3.60617876e-01, -1.38178796e-01,\n",
              "         8.36576700e-01,  9.74403024e-02,  3.99091572e-01,  1.73045665e-01,\n",
              "         1.60729855e-01, -1.18019603e-01, -1.78784330e-03, -2.76372731e-01,\n",
              "         2.47752666e-01, -2.00947821e-01,  4.29625034e-01,  1.58594176e-02,\n",
              "        -2.98556294e-02, -5.71878850e-01, -6.01141751e-01, -1.09424114e-01,\n",
              "         2.63081759e-01,  1.68280348e-01, -3.70595932e-01,  1.18946664e-01,\n",
              "        -1.38829625e+00, -7.77884424e-02, -2.95430332e-01, -1.54719263e-01,\n",
              "        -3.71385701e-02, -5.91127753e-01, -2.49146566e-01, -1.10995807e-01,\n",
              "         1.26511693e-01, -3.37666482e-01, -5.94382346e-01,  3.16325337e-01,\n",
              "        -4.05956000e-01, -3.91861618e-01,  5.62033594e-01,  3.23985219e-01],\n",
              "       dtype=float32),\n",
              " array([-0.0988388 ,  0.29600388,  0.18557204,  0.12939627,  0.1635836 ,\n",
              "         0.07261304, -0.1540891 ,  0.13763681,  0.0858127 ,  0.04699422,\n",
              "        -0.08966271, -0.15921007,  0.47903988,  0.1386238 , -0.1328849 ,\n",
              "        -0.361147  ,  0.02971125,  0.16273713, -0.4874814 ,  0.30562267,\n",
              "         0.27822018,  0.02848483,  0.3251858 , -0.2561273 , -0.01869858,\n",
              "        -0.40249693, -0.0154885 , -0.44238526,  0.05816553,  0.13634774,\n",
              "         0.1888109 ,  0.48996988, -0.21208897, -0.45530272, -0.02160415,\n",
              "         0.24255292,  0.06272746,  0.05081303, -0.29539672, -0.2811893 ,\n",
              "        -0.36469704, -0.3284757 ,  0.10940006, -0.04098603, -0.18323296,\n",
              "         0.01090233, -0.11418215,  0.15621631, -0.01358849, -0.60191983,\n",
              "        -0.02550961, -0.11322475,  0.11382268,  0.9132062 ,  0.18462981,\n",
              "        -1.7935107 ,  0.19192633, -0.17851925,  1.410641  ,  0.48262388,\n",
              "         0.03141817,  1.0531197 , -0.11888262, -0.21112543,  0.7562362 ,\n",
              "        -0.07785024,  0.36516204,  0.21799421,  0.3032064 , -0.16552782,\n",
              "        -0.04919264, -0.12581311, -0.04961661, -0.41565624,  0.3312475 ,\n",
              "         0.07794966,  0.03359949, -0.23731473, -0.4840973 ,  0.04645783,\n",
              "         0.2714465 ,  0.2171942 , -0.23927562,  0.13659555, -1.4540462 ,\n",
              "        -0.03012444, -0.20540518, -0.24446449, -0.36016986, -0.3832685 ,\n",
              "        -0.07997256, -0.19208421,  0.04915452, -0.01076214, -0.69708806,\n",
              "         0.14187278, -0.55822825, -0.18178925,  0.58909225,  0.2400302 ],\n",
              "       dtype=float32),\n",
              " array([ 0.21315967,  0.4377546 ,  0.73809457, -0.27142808, -0.39319938,\n",
              "         0.30894873, -0.12467276, -0.06385503, -0.24516784, -0.46879745,\n",
              "         0.20193554, -0.16748236,  0.0743131 , -0.13236967, -0.31482875,\n",
              "        -0.11878874,  0.01449892,  0.4080017 , -0.48803997,  0.6601243 ,\n",
              "        -0.11500216,  0.38583848, -0.18230054, -0.36092418,  0.18207113,\n",
              "         0.01555664, -0.05522639, -0.76273066,  0.5412151 , -0.03310256,\n",
              "        -0.19956605,  0.7550507 ,  0.06644736, -0.03842166,  0.32252252,\n",
              "         0.06252007, -0.3796099 ,  0.3975535 , -0.15058136, -0.36583716,\n",
              "        -0.33485818,  0.11636024,  0.41878164, -0.53492445, -0.2070733 ,\n",
              "        -0.10972369,  0.11088531, -0.04601773,  0.01356377, -0.8877531 ,\n",
              "        -0.03353807, -0.31262678, -0.02335965,  0.51799315,  0.1283151 ,\n",
              "        -1.9597201 ,  0.06778982,  0.1742905 ,  0.8949093 ,  0.6094772 ,\n",
              "        -0.16299401,  0.85012144, -0.33400723,  0.00452936,  0.4567876 ,\n",
              "        -0.00768447,  0.4481617 ,  0.31230253, -0.01481646, -0.03468798,\n",
              "         0.20949437, -0.15182959, -0.07074161, -0.23889416,  0.15790485,\n",
              "         0.21555749,  0.42879966, -0.24292359, -0.18749893,  0.06033453,\n",
              "         0.6343308 , -0.03129174, -0.27520928, -0.19505414, -1.2902572 ,\n",
              "        -0.3956192 , -0.6553892 , -0.0678883 , -0.26389274, -0.30546153,\n",
              "        -0.07952578, -0.0315012 ,  0.2095632 , -0.21899158, -0.43134838,\n",
              "        -0.04308514, -0.41258755, -0.09937438,  0.38038054,  0.6894472 ],\n",
              "       dtype=float32),\n",
              " array([-1.36515886e-01,  3.24848056e-01,  1.77670583e-01,  3.08620363e-01,\n",
              "         5.35306185e-02,  2.96800047e-01, -2.84656063e-02,  4.31457132e-01,\n",
              "         5.08922711e-02, -5.57788014e-02,  7.91252330e-02, -1.18405402e-01,\n",
              "         6.12241998e-02,  6.60687238e-02, -2.96036273e-01, -1.53599605e-01,\n",
              "         2.63760328e-01,  1.56443387e-01, -6.37765527e-02,  4.75751072e-01,\n",
              "         1.35886028e-01,  2.28612855e-01,  2.73269206e-01, -4.32224348e-02,\n",
              "         1.13446645e-01, -1.30717373e-02, -1.71873778e-01, -6.53390229e-01,\n",
              "         7.38122985e-02,  9.88640413e-02, -2.19589859e-01,  4.25828576e-01,\n",
              "        -1.11352233e-02, -4.31379676e-01,  1.95683584e-01, -8.63771588e-02,\n",
              "        -4.81704697e-02,  4.29415166e-01, -2.59491354e-01, -2.49270171e-01,\n",
              "        -1.96893275e-01, -3.29479128e-01,  1.53078988e-01, -4.83723372e-01,\n",
              "         1.08870275e-01,  3.22991796e-02,  4.76159453e-01,  1.64226696e-01,\n",
              "         2.00046748e-01, -4.21329677e-01, -3.00862253e-01, -1.23411648e-01,\n",
              "         3.47423136e-01,  6.16688371e-01,  5.44391237e-02, -2.30597353e+00,\n",
              "        -7.58676380e-02, -1.44088998e-01,  1.42204952e+00,  5.63916564e-01,\n",
              "        -1.77905515e-01,  7.02389419e-01,  8.67350698e-02,  3.47245693e-01,\n",
              "         6.33054316e-01, -3.38300407e-01, -3.11347153e-02,  2.07950518e-01,\n",
              "         1.29725084e-01, -1.20429128e-01,  2.73688823e-01, -2.56425887e-01,\n",
              "        -1.11066237e-01, -3.70182469e-02, -1.42114377e-03,  2.02416927e-02,\n",
              "         3.01784068e-01,  6.26573414e-02, -4.27685589e-01,  3.32861781e-01,\n",
              "         5.97593129e-01,  8.37065801e-02, -2.33209208e-01,  4.11761068e-02,\n",
              "        -1.09469378e+00, -2.50594854e-01, -2.25468650e-01, -1.63554117e-01,\n",
              "         1.02123223e-01, -1.24953762e-01, -1.94821298e-01, -2.54596353e-01,\n",
              "         3.52012143e-02,  1.74106479e-01, -1.55796796e-01,  8.03529173e-02,\n",
              "        -2.78759331e-01, -2.19325915e-01,  6.25348628e-01,  3.81647080e-01],\n",
              "       dtype=float32),\n",
              " array([ 5.01572788e-02,  4.68223959e-01,  1.43260568e-01, -4.87370975e-02,\n",
              "        -8.86257961e-02,  1.13307238e-01, -3.83525491e-01, -2.77067661e-01,\n",
              "         2.16959000e-01, -4.36657786e-01,  2.68607467e-01, -2.87372559e-01,\n",
              "         4.42622483e-01, -7.07364157e-02, -9.19436812e-02, -4.07837391e-01,\n",
              "        -1.99028671e-01,  3.69523495e-01, -4.37521143e-03,  6.70623183e-01,\n",
              "        -3.61013077e-02,  3.56095940e-01,  9.93622169e-02, -6.44898355e-01,\n",
              "        -1.79802909e-01, -4.58207637e-01, -2.54576690e-02, -5.80356598e-01,\n",
              "        -2.71639396e-02,  7.09346905e-02, -3.00333232e-01,  5.16284585e-01,\n",
              "        -2.47147277e-01, -3.34231645e-01,  8.77274200e-02,  1.14895023e-01,\n",
              "        -5.04221953e-02,  1.04608461e-01, -1.42280579e-01, -2.61984378e-01,\n",
              "        -6.73285604e-01, -1.03418864e-01,  6.85241595e-02, -4.61496204e-01,\n",
              "        -5.80926359e-01, -8.20057932e-04,  3.00677121e-01, -6.07091002e-02,\n",
              "         1.25600442e-01, -7.32735813e-01,  3.27187598e-01, -1.83978662e-01,\n",
              "         6.35785807e-04,  6.74668431e-01, -1.90444529e-01, -1.88760400e+00,\n",
              "         2.65502483e-01, -4.78506554e-03,  1.36177945e+00,  4.41906035e-01,\n",
              "        -2.64828056e-01,  1.30378878e+00, -2.40303233e-01, -4.56581116e-02,\n",
              "         9.76961017e-01,  1.02722757e-01,  7.95578182e-01,  3.64688426e-01,\n",
              "         3.16683471e-01, -1.74525172e-01,  5.17627411e-02, -2.72161961e-01,\n",
              "        -1.35414869e-01, -3.76217932e-01, -1.83348935e-02,  2.02229246e-01,\n",
              "         1.00709766e-01, -1.04318559e-01, -6.56712770e-01,  8.29356834e-02,\n",
              "         5.21670461e-01, -2.68510892e-03, -4.79296923e-01,  1.36155277e-01,\n",
              "        -1.71776080e+00, -9.78893787e-02, -3.96905065e-01, -2.05261573e-01,\n",
              "        -7.60419905e-01, -5.58377266e-01, -1.78825065e-01, -3.01359534e-01,\n",
              "         6.85884804e-02, -3.94022018e-01, -9.82475877e-01, -2.71975938e-02,\n",
              "        -7.55698085e-01, -1.49989992e-01,  4.93695468e-01,  5.67160964e-01],\n",
              "       dtype=float32),\n",
              " array([-0.10187776,  0.15111747,  0.34342727,  0.1016523 ,  0.08476289,\n",
              "         0.42550418, -0.1212937 ,  0.23049545,  0.13364728, -0.03607223,\n",
              "         0.2702687 ,  0.21237606, -0.12773778,  0.29001802, -0.2041411 ,\n",
              "         0.06826772, -0.00994375,  0.3044477 , -0.22711635,  0.35413203,\n",
              "        -0.09224985, -0.05599162,  0.09364942,  0.5501652 ,  0.14072178,\n",
              "        -0.02473278, -0.0527449 , -0.7587089 ,  0.2516035 ,  0.15919885,\n",
              "        -0.3247589 ,  0.35286698,  0.09641894, -0.06578802,  0.21681017,\n",
              "        -0.06939007, -0.2943302 ,  0.10576165, -0.10768266, -0.11104023,\n",
              "        -0.3797675 , -0.22469714,  0.20014735, -0.37715656, -0.0091656 ,\n",
              "        -0.37259704, -0.00964517, -0.20372328,  0.38720155, -0.28014496,\n",
              "         0.17891188, -0.16920647,  0.22944295,  0.6528471 , -0.02569304,\n",
              "        -1.6301236 , -0.0697862 ,  0.25129023,  0.46719283,  0.4329186 ,\n",
              "         0.05443945,  0.39273164, -0.1412947 ,  0.01195085,  0.1914563 ,\n",
              "        -0.11516286,  0.32716554,  0.37948444,  0.06525596,  0.07307772,\n",
              "         0.2744768 ,  0.029951  ,  0.02771578, -0.08529296,  0.18021345,\n",
              "         0.21389225,  0.390092  , -0.00990226, -0.32867268, -0.01471378,\n",
              "         0.3699025 , -0.17360353, -0.42483303, -0.06514584, -1.0523697 ,\n",
              "        -0.6362513 , -0.46044353,  0.15142356, -0.08383266, -0.24178089,\n",
              "        -0.03746282, -0.10045332,  0.30864313,  0.12075333,  0.05101364,\n",
              "        -0.05568304, -0.21243916, -0.5155905 ,  0.02556931,  0.47237718],\n",
              "       dtype=float32)]"
            ]
          },
          "metadata": {
            "tags": []
          },
          "execution_count": 40
        }
      ]
    },
    {
      "cell_type": "markdown",
      "metadata": {
        "id": "uXmEr__HpTC3"
      },
      "source": [
        "## Preparing a similarity matrix\n",
        "we will find the cosine similarity of the sentences"
      ]
    },
    {
      "cell_type": "code",
      "metadata": {
        "colab": {
          "base_uri": "https://localhost:8080/"
        },
        "id": "vY2LlyHgoidf",
        "outputId": "23dc3260-ca23-480b-c76f-639607248e2b"
      },
      "source": [
        "vect_df['clean_text']"
      ],
      "execution_count": 41,
      "outputs": [
        {
          "output_type": "execute_result",
          "data": {
            "text/plain": [
              "0    [[0.05148256, 0.11054468, 0.6949994, 0.1891681...\n",
              "1    [[0.10586457, -0.104832724, 0.5098503, 0.25731...\n",
              "2    [[-0.014404414, 0.00031916526, 0.118812695, -0...\n",
              "3    [[0.04519946, -0.06464375, 0.5035452, -0.16035...\n",
              "4    [[0.21534438, 0.18089992, 0.2559875, 0.0692366...\n",
              "5    [[0.03523205, -0.03176445, 0.36155656, -0.1280...\n",
              "6    [[-0.115314946, -0.006283154, 0.595066, -0.160...\n",
              "7    [[-0.15236476, 0.05248125, 0.46090904, -0.5684...\n",
              "Name: clean_text, dtype: object"
            ]
          },
          "metadata": {
            "tags": []
          },
          "execution_count": 41
        }
      ]
    },
    {
      "cell_type": "code",
      "metadata": {
        "colab": {
          "base_uri": "https://localhost:8080/"
        },
        "id": "jn0OChSMqwcy",
        "outputId": "0ce3d420-2baa-4d55-ed15-b72a995c12b8"
      },
      "source": [
        "len(news['clean_text'][1])"
      ],
      "execution_count": 42,
      "outputs": [
        {
          "output_type": "execute_result",
          "data": {
            "text/plain": [
              "12"
            ]
          },
          "metadata": {
            "tags": []
          },
          "execution_count": 42
        }
      ]
    },
    {
      "cell_type": "markdown",
      "metadata": {
        "id": "5GiCxLlVraoq"
      },
      "source": [
        "Let’s first define a zero matrix of dimensions (n * n).  We will initialize this matrix with cosine similarity scores of the sentences of an article. Here, n is the number of sentences in an article."
      ]
    },
    {
      "cell_type": "code",
      "metadata": {
        "id": "3WVKqOo5q5yH"
      },
      "source": [
        "vect_df['similarity_matrix'] = news['sen_token'].apply(lambda x: np.zeros([len(x), len(x)]))"
      ],
      "execution_count": 43,
      "outputs": []
    },
    {
      "cell_type": "code",
      "metadata": {
        "colab": {
          "base_uri": "https://localhost:8080/",
          "height": 300
        },
        "id": "e6blETXzsNsN",
        "outputId": "4ae414cf-6ee4-4c30-d36c-32012c49c222"
      },
      "source": [
        "vect_df"
      ],
      "execution_count": 44,
      "outputs": [
        {
          "output_type": "execute_result",
          "data": {
            "text/html": [
              "<div>\n",
              "<style scoped>\n",
              "    .dataframe tbody tr th:only-of-type {\n",
              "        vertical-align: middle;\n",
              "    }\n",
              "\n",
              "    .dataframe tbody tr th {\n",
              "        vertical-align: top;\n",
              "    }\n",
              "\n",
              "    .dataframe thead th {\n",
              "        text-align: right;\n",
              "    }\n",
              "</style>\n",
              "<table border=\"1\" class=\"dataframe\">\n",
              "  <thead>\n",
              "    <tr style=\"text-align: right;\">\n",
              "      <th></th>\n",
              "      <th>clean_text</th>\n",
              "      <th>similarity_matrix</th>\n",
              "    </tr>\n",
              "  </thead>\n",
              "  <tbody>\n",
              "    <tr>\n",
              "      <th>0</th>\n",
              "      <td>[[0.05148256, 0.11054468, 0.6949994, 0.1891681...</td>\n",
              "      <td>[[0.0, 0.0, 0.0, 0.0, 0.0, 0.0, 0.0, 0.0, 0.0,...</td>\n",
              "    </tr>\n",
              "    <tr>\n",
              "      <th>1</th>\n",
              "      <td>[[0.10586457, -0.104832724, 0.5098503, 0.25731...</td>\n",
              "      <td>[[0.0, 0.0, 0.0, 0.0, 0.0, 0.0, 0.0, 0.0, 0.0,...</td>\n",
              "    </tr>\n",
              "    <tr>\n",
              "      <th>2</th>\n",
              "      <td>[[-0.014404414, 0.00031916526, 0.118812695, -0...</td>\n",
              "      <td>[[0.0, 0.0, 0.0, 0.0, 0.0, 0.0, 0.0, 0.0, 0.0,...</td>\n",
              "    </tr>\n",
              "    <tr>\n",
              "      <th>3</th>\n",
              "      <td>[[0.04519946, -0.06464375, 0.5035452, -0.16035...</td>\n",
              "      <td>[[0.0, 0.0, 0.0, 0.0, 0.0, 0.0, 0.0, 0.0, 0.0,...</td>\n",
              "    </tr>\n",
              "    <tr>\n",
              "      <th>4</th>\n",
              "      <td>[[0.21534438, 0.18089992, 0.2559875, 0.0692366...</td>\n",
              "      <td>[[0.0, 0.0, 0.0, 0.0, 0.0, 0.0, 0.0, 0.0, 0.0,...</td>\n",
              "    </tr>\n",
              "    <tr>\n",
              "      <th>5</th>\n",
              "      <td>[[0.03523205, -0.03176445, 0.36155656, -0.1280...</td>\n",
              "      <td>[[0.0, 0.0, 0.0, 0.0, 0.0, 0.0, 0.0, 0.0, 0.0,...</td>\n",
              "    </tr>\n",
              "    <tr>\n",
              "      <th>6</th>\n",
              "      <td>[[-0.115314946, -0.006283154, 0.595066, -0.160...</td>\n",
              "      <td>[[0.0, 0.0, 0.0, 0.0, 0.0, 0.0, 0.0, 0.0, 0.0,...</td>\n",
              "    </tr>\n",
              "    <tr>\n",
              "      <th>7</th>\n",
              "      <td>[[-0.15236476, 0.05248125, 0.46090904, -0.5684...</td>\n",
              "      <td>[[0.0, 0.0, 0.0, 0.0, 0.0, 0.0, 0.0, 0.0, 0.0,...</td>\n",
              "    </tr>\n",
              "  </tbody>\n",
              "</table>\n",
              "</div>"
            ],
            "text/plain": [
              "                                          clean_text                                  similarity_matrix\n",
              "0  [[0.05148256, 0.11054468, 0.6949994, 0.1891681...  [[0.0, 0.0, 0.0, 0.0, 0.0, 0.0, 0.0, 0.0, 0.0,...\n",
              "1  [[0.10586457, -0.104832724, 0.5098503, 0.25731...  [[0.0, 0.0, 0.0, 0.0, 0.0, 0.0, 0.0, 0.0, 0.0,...\n",
              "2  [[-0.014404414, 0.00031916526, 0.118812695, -0...  [[0.0, 0.0, 0.0, 0.0, 0.0, 0.0, 0.0, 0.0, 0.0,...\n",
              "3  [[0.04519946, -0.06464375, 0.5035452, -0.16035...  [[0.0, 0.0, 0.0, 0.0, 0.0, 0.0, 0.0, 0.0, 0.0,...\n",
              "4  [[0.21534438, 0.18089992, 0.2559875, 0.0692366...  [[0.0, 0.0, 0.0, 0.0, 0.0, 0.0, 0.0, 0.0, 0.0,...\n",
              "5  [[0.03523205, -0.03176445, 0.36155656, -0.1280...  [[0.0, 0.0, 0.0, 0.0, 0.0, 0.0, 0.0, 0.0, 0.0,...\n",
              "6  [[-0.115314946, -0.006283154, 0.595066, -0.160...  [[0.0, 0.0, 0.0, 0.0, 0.0, 0.0, 0.0, 0.0, 0.0,...\n",
              "7  [[-0.15236476, 0.05248125, 0.46090904, -0.5684...  [[0.0, 0.0, 0.0, 0.0, 0.0, 0.0, 0.0, 0.0, 0.0,..."
            ]
          },
          "metadata": {
            "tags": []
          },
          "execution_count": 44
        }
      ]
    },
    {
      "cell_type": "code",
      "metadata": {
        "id": "rsKv-EjURprA"
      },
      "source": [
        "vect_df['sents'] = news['sen_token'].values"
      ],
      "execution_count": 45,
      "outputs": []
    },
    {
      "cell_type": "code",
      "metadata": {
        "colab": {
          "base_uri": "https://localhost:8080/",
          "height": 300
        },
        "id": "LzXVsNpHSfUS",
        "outputId": "b22cb526-a199-45de-8241-9024c4045bc8"
      },
      "source": [
        "vect_df"
      ],
      "execution_count": 46,
      "outputs": [
        {
          "output_type": "execute_result",
          "data": {
            "text/html": [
              "<div>\n",
              "<style scoped>\n",
              "    .dataframe tbody tr th:only-of-type {\n",
              "        vertical-align: middle;\n",
              "    }\n",
              "\n",
              "    .dataframe tbody tr th {\n",
              "        vertical-align: top;\n",
              "    }\n",
              "\n",
              "    .dataframe thead th {\n",
              "        text-align: right;\n",
              "    }\n",
              "</style>\n",
              "<table border=\"1\" class=\"dataframe\">\n",
              "  <thead>\n",
              "    <tr style=\"text-align: right;\">\n",
              "      <th></th>\n",
              "      <th>clean_text</th>\n",
              "      <th>similarity_matrix</th>\n",
              "      <th>sents</th>\n",
              "    </tr>\n",
              "  </thead>\n",
              "  <tbody>\n",
              "    <tr>\n",
              "      <th>0</th>\n",
              "      <td>[[0.05148256, 0.11054468, 0.6949994, 0.1891681...</td>\n",
              "      <td>[[0.0, 0.0, 0.0, 0.0, 0.0, 0.0, 0.0, 0.0, 0.0,...</td>\n",
              "      <td>[Maria Sharapova has basically no friends as t...</td>\n",
              "    </tr>\n",
              "    <tr>\n",
              "      <th>1</th>\n",
              "      <td>[[0.10586457, -0.104832724, 0.5098503, 0.25731...</td>\n",
              "      <td>[[0.0, 0.0, 0.0, 0.0, 0.0, 0.0, 0.0, 0.0, 0.0,...</td>\n",
              "      <td>[BASEL, Switzerland (AP) — Roger Federer advan...</td>\n",
              "    </tr>\n",
              "    <tr>\n",
              "      <th>2</th>\n",
              "      <td>[[-0.014404414, 0.00031916526, 0.118812695, -0...</td>\n",
              "      <td>[[0.0, 0.0, 0.0, 0.0, 0.0, 0.0, 0.0, 0.0, 0.0,...</td>\n",
              "      <td>[Roger Federer has revealed that organisers of...</td>\n",
              "    </tr>\n",
              "    <tr>\n",
              "      <th>3</th>\n",
              "      <td>[[0.04519946, -0.06464375, 0.5035452, -0.16035...</td>\n",
              "      <td>[[0.0, 0.0, 0.0, 0.0, 0.0, 0.0, 0.0, 0.0, 0.0,...</td>\n",
              "      <td>[Kei Nishikori will try to end his long losing...</td>\n",
              "    </tr>\n",
              "    <tr>\n",
              "      <th>4</th>\n",
              "      <td>[[0.21534438, 0.18089992, 0.2559875, 0.0692366...</td>\n",
              "      <td>[[0.0, 0.0, 0.0, 0.0, 0.0, 0.0, 0.0, 0.0, 0.0,...</td>\n",
              "      <td>[Federer, 37, first broke through on tour over...</td>\n",
              "    </tr>\n",
              "    <tr>\n",
              "      <th>5</th>\n",
              "      <td>[[0.03523205, -0.03176445, 0.36155656, -0.1280...</td>\n",
              "      <td>[[0.0, 0.0, 0.0, 0.0, 0.0, 0.0, 0.0, 0.0, 0.0,...</td>\n",
              "      <td>[Nadal has not played tennis since he was forc...</td>\n",
              "    </tr>\n",
              "    <tr>\n",
              "      <th>6</th>\n",
              "      <td>[[-0.115314946, -0.006283154, 0.595066, -0.160...</td>\n",
              "      <td>[[0.0, 0.0, 0.0, 0.0, 0.0, 0.0, 0.0, 0.0, 0.0,...</td>\n",
              "      <td>[Tennis giveth, and tennis taketh away., The e...</td>\n",
              "    </tr>\n",
              "    <tr>\n",
              "      <th>7</th>\n",
              "      <td>[[-0.15236476, 0.05248125, 0.46090904, -0.5684...</td>\n",
              "      <td>[[0.0, 0.0, 0.0, 0.0, 0.0, 0.0, 0.0, 0.0, 0.0,...</td>\n",
              "      <td>[I PLAYED golf last week with Todd Reid., He p...</td>\n",
              "    </tr>\n",
              "  </tbody>\n",
              "</table>\n",
              "</div>"
            ],
            "text/plain": [
              "                                          clean_text  ...                                              sents\n",
              "0  [[0.05148256, 0.11054468, 0.6949994, 0.1891681...  ...  [Maria Sharapova has basically no friends as t...\n",
              "1  [[0.10586457, -0.104832724, 0.5098503, 0.25731...  ...  [BASEL, Switzerland (AP) — Roger Federer advan...\n",
              "2  [[-0.014404414, 0.00031916526, 0.118812695, -0...  ...  [Roger Federer has revealed that organisers of...\n",
              "3  [[0.04519946, -0.06464375, 0.5035452, -0.16035...  ...  [Kei Nishikori will try to end his long losing...\n",
              "4  [[0.21534438, 0.18089992, 0.2559875, 0.0692366...  ...  [Federer, 37, first broke through on tour over...\n",
              "5  [[0.03523205, -0.03176445, 0.36155656, -0.1280...  ...  [Nadal has not played tennis since he was forc...\n",
              "6  [[-0.115314946, -0.006283154, 0.595066, -0.160...  ...  [Tennis giveth, and tennis taketh away., The e...\n",
              "7  [[-0.15236476, 0.05248125, 0.46090904, -0.5684...  ...  [I PLAYED golf last week with Todd Reid., He p...\n",
              "\n",
              "[8 rows x 3 columns]"
            ]
          },
          "metadata": {
            "tags": []
          },
          "execution_count": 46
        }
      ]
    },
    {
      "cell_type": "code",
      "metadata": {
        "id": "fEmAOLZdSslq"
      },
      "source": [
        "from sklearn.metrics.pairwise import cosine_similarity"
      ],
      "execution_count": 49,
      "outputs": []
    },
    {
      "cell_type": "code",
      "metadata": {
        "id": "EsxJaJNy465I"
      },
      "source": [
        "# Assgning the matrix with similarity scores\n",
        "for k in vect_df.iloc:\n",
        "  x = k.name\n",
        "  for i in range(len(vect_df['sents'][x])):\n",
        "    for j in range(len(vect_df['sents'][x])):\n",
        "      if i != j:\n",
        "        vect_df['similarity_matrix'][x][i][j] = cosine_similarity(vect_df['clean_text'][x][i].reshape(1,100), vect_df['clean_text'][x][j].reshape(1, 100))[0,0]"
      ],
      "execution_count": 50,
      "outputs": []
    },
    {
      "cell_type": "code",
      "metadata": {
        "colab": {
          "base_uri": "https://localhost:8080/"
        },
        "id": "wPk4--bsd8s6",
        "outputId": "0d1cb5b9-1a1b-4804-81c9-012d2d8e94b2"
      },
      "source": [
        "vect_df['similarity_matrix']"
      ],
      "execution_count": 51,
      "outputs": [
        {
          "output_type": "execute_result",
          "data": {
            "text/plain": [
              "0    [[0.0, 0.6437833905220032, 0.5915699601173401,...\n",
              "1    [[0.0, 0.8939819931983948, 0.8638535141944885,...\n",
              "2    [[0.0, 0.9248484969139099, 0.9090324640274048,...\n",
              "3    [[0.0, 0.7852268815040588, 0.8482545614242554,...\n",
              "4    [[0.0, 0.810055423540263, 0.9082390666007996, ...\n",
              "5    [[0.0, 0.8968858122825623, 0.8748721480369568,...\n",
              "6    [[0.0, 0.47489437460899353, 0.4500268101692199...\n",
              "7    [[0.0, 0.7607073187828064, 0.438073068857193, ...\n",
              "Name: similarity_matrix, dtype: object"
            ]
          },
          "metadata": {
            "tags": []
          },
          "execution_count": 51
        }
      ]
    },
    {
      "cell_type": "markdown",
      "metadata": {
        "id": "ewb9DxSigpx8"
      },
      "source": [
        "## Applying page rank algorithm\n",
        "\n"
      ]
    },
    {
      "cell_type": "code",
      "metadata": {
        "id": "Amz2aNs8gVOz"
      },
      "source": [
        "# converting this similarity matrix to a graph. \n",
        "# The nodes of this graph will represent the tokenized sentences.\n",
        "# edges will represent the similarity score b/w sentences.\n",
        "\n",
        "import networkx as nx"
      ],
      "execution_count": 52,
      "outputs": []
    },
    {
      "cell_type": "code",
      "metadata": {
        "id": "44H8ym04hNpk"
      },
      "source": [
        "vect_df['nx_graph'] = vect_df['similarity_matrix'].apply(lambda x: nx.from_numpy_array(x))"
      ],
      "execution_count": 53,
      "outputs": []
    },
    {
      "cell_type": "code",
      "metadata": {
        "id": "BNyJlMTaiPp-"
      },
      "source": [
        "vect_df['scores'] = vect_df['nx_graph'].apply(lambda x: nx.pagerank(x))"
      ],
      "execution_count": 54,
      "outputs": []
    },
    {
      "cell_type": "code",
      "metadata": {
        "colab": {
          "base_uri": "https://localhost:8080/"
        },
        "id": "fBU9ca9QiRcT",
        "outputId": "bbc244d2-74d8-43cc-b7a7-b5c1be313a6f"
      },
      "source": [
        "vect_df['scores']"
      ],
      "execution_count": 55,
      "outputs": [
        {
          "output_type": "execute_result",
          "data": {
            "text/plain": [
              "0    {0: 0.049271663661586376, 1: 0.056260332812872...\n",
              "1    {0: 0.08347728351009916, 1: 0.0857253951885348...\n",
              "2    {0: 0.07091610358816944, 1: 0.0716801831901816...\n",
              "3    {0: 0.08109867192976133, 1: 0.0729409613094228...\n",
              "4    {0: 0.05944143827301597, 1: 0.0531357506715829...\n",
              "5    {0: 0.08350049169380515, 1: 0.0841110667571069...\n",
              "6    {0: 0.06800464376414277, 1: 0.1059924009444186...\n",
              "7    {0: 0.031776818539783785, 1: 0.031917881509573...\n",
              "Name: scores, dtype: object"
            ]
          },
          "metadata": {
            "tags": []
          },
          "execution_count": 55
        }
      ]
    },
    {
      "cell_type": "code",
      "metadata": {
        "colab": {
          "base_uri": "https://localhost:8080/",
          "height": 439
        },
        "id": "eCbSe_rISyIR",
        "outputId": "ee77d326-305e-4229-cced-4f839cd01bf6"
      },
      "source": [
        "vect_df"
      ],
      "execution_count": 56,
      "outputs": [
        {
          "output_type": "execute_result",
          "data": {
            "text/html": [
              "<div>\n",
              "<style scoped>\n",
              "    .dataframe tbody tr th:only-of-type {\n",
              "        vertical-align: middle;\n",
              "    }\n",
              "\n",
              "    .dataframe tbody tr th {\n",
              "        vertical-align: top;\n",
              "    }\n",
              "\n",
              "    .dataframe thead th {\n",
              "        text-align: right;\n",
              "    }\n",
              "</style>\n",
              "<table border=\"1\" class=\"dataframe\">\n",
              "  <thead>\n",
              "    <tr style=\"text-align: right;\">\n",
              "      <th></th>\n",
              "      <th>clean_text</th>\n",
              "      <th>similarity_matrix</th>\n",
              "      <th>sents</th>\n",
              "      <th>nx_graph</th>\n",
              "      <th>scores</th>\n",
              "    </tr>\n",
              "  </thead>\n",
              "  <tbody>\n",
              "    <tr>\n",
              "      <th>0</th>\n",
              "      <td>[[0.05148256, 0.11054468, 0.6949994, 0.1891681...</td>\n",
              "      <td>[[0.0, 0.6437833905220032, 0.5915699601173401,...</td>\n",
              "      <td>[Maria Sharapova has basically no friends as t...</td>\n",
              "      <td>(0, 1, 2, 3, 4, 5, 6, 7, 8, 9, 10, 11, 12, 13,...</td>\n",
              "      <td>{0: 0.049271663661586376, 1: 0.056260332812872...</td>\n",
              "    </tr>\n",
              "    <tr>\n",
              "      <th>1</th>\n",
              "      <td>[[0.10586457, -0.104832724, 0.5098503, 0.25731...</td>\n",
              "      <td>[[0.0, 0.8939819931983948, 0.8638535141944885,...</td>\n",
              "      <td>[BASEL, Switzerland (AP) — Roger Federer advan...</td>\n",
              "      <td>(0, 1, 2, 3, 4, 5, 6, 7, 8, 9, 10, 11)</td>\n",
              "      <td>{0: 0.08347728351009916, 1: 0.0857253951885348...</td>\n",
              "    </tr>\n",
              "    <tr>\n",
              "      <th>2</th>\n",
              "      <td>[[-0.014404414, 0.00031916526, 0.118812695, -0...</td>\n",
              "      <td>[[0.0, 0.9248484969139099, 0.9090324640274048,...</td>\n",
              "      <td>[Roger Federer has revealed that organisers of...</td>\n",
              "      <td>(0, 1, 2, 3, 4, 5, 6, 7, 8, 9, 10, 11, 12, 13,...</td>\n",
              "      <td>{0: 0.07091610358816944, 1: 0.0716801831901816...</td>\n",
              "    </tr>\n",
              "    <tr>\n",
              "      <th>3</th>\n",
              "      <td>[[0.04519946, -0.06464375, 0.5035452, -0.16035...</td>\n",
              "      <td>[[0.0, 0.7852268815040588, 0.8482545614242554,...</td>\n",
              "      <td>[Kei Nishikori will try to end his long losing...</td>\n",
              "      <td>(0, 1, 2, 3, 4, 5, 6, 7, 8, 9, 10, 11, 12)</td>\n",
              "      <td>{0: 0.08109867192976133, 1: 0.0729409613094228...</td>\n",
              "    </tr>\n",
              "    <tr>\n",
              "      <th>4</th>\n",
              "      <td>[[0.21534438, 0.18089992, 0.2559875, 0.0692366...</td>\n",
              "      <td>[[0.0, 0.810055423540263, 0.9082390666007996, ...</td>\n",
              "      <td>[Federer, 37, first broke through on tour over...</td>\n",
              "      <td>(0, 1, 2, 3, 4, 5, 6, 7, 8, 9, 10, 11, 12, 13,...</td>\n",
              "      <td>{0: 0.05944143827301597, 1: 0.0531357506715829...</td>\n",
              "    </tr>\n",
              "    <tr>\n",
              "      <th>5</th>\n",
              "      <td>[[0.03523205, -0.03176445, 0.36155656, -0.1280...</td>\n",
              "      <td>[[0.0, 0.8968858122825623, 0.8748721480369568,...</td>\n",
              "      <td>[Nadal has not played tennis since he was forc...</td>\n",
              "      <td>(0, 1, 2, 3, 4, 5, 6, 7, 8, 9, 10, 11)</td>\n",
              "      <td>{0: 0.08350049169380515, 1: 0.0841110667571069...</td>\n",
              "    </tr>\n",
              "    <tr>\n",
              "      <th>6</th>\n",
              "      <td>[[-0.115314946, -0.006283154, 0.595066, -0.160...</td>\n",
              "      <td>[[0.0, 0.47489437460899353, 0.4500268101692199...</td>\n",
              "      <td>[Tennis giveth, and tennis taketh away., The e...</td>\n",
              "      <td>(0, 1, 2, 3, 4, 5, 6, 7, 8, 9)</td>\n",
              "      <td>{0: 0.06800464376414277, 1: 0.1059924009444186...</td>\n",
              "    </tr>\n",
              "    <tr>\n",
              "      <th>7</th>\n",
              "      <td>[[-0.15236476, 0.05248125, 0.46090904, -0.5684...</td>\n",
              "      <td>[[0.0, 0.7607073187828064, 0.438073068857193, ...</td>\n",
              "      <td>[I PLAYED golf last week with Todd Reid., He p...</td>\n",
              "      <td>(0, 1, 2, 3, 4, 5, 6, 7, 8, 9, 10, 11, 12, 13,...</td>\n",
              "      <td>{0: 0.031776818539783785, 1: 0.031917881509573...</td>\n",
              "    </tr>\n",
              "  </tbody>\n",
              "</table>\n",
              "</div>"
            ],
            "text/plain": [
              "                                          clean_text  ...                                             scores\n",
              "0  [[0.05148256, 0.11054468, 0.6949994, 0.1891681...  ...  {0: 0.049271663661586376, 1: 0.056260332812872...\n",
              "1  [[0.10586457, -0.104832724, 0.5098503, 0.25731...  ...  {0: 0.08347728351009916, 1: 0.0857253951885348...\n",
              "2  [[-0.014404414, 0.00031916526, 0.118812695, -0...  ...  {0: 0.07091610358816944, 1: 0.0716801831901816...\n",
              "3  [[0.04519946, -0.06464375, 0.5035452, -0.16035...  ...  {0: 0.08109867192976133, 1: 0.0729409613094228...\n",
              "4  [[0.21534438, 0.18089992, 0.2559875, 0.0692366...  ...  {0: 0.05944143827301597, 1: 0.0531357506715829...\n",
              "5  [[0.03523205, -0.03176445, 0.36155656, -0.1280...  ...  {0: 0.08350049169380515, 1: 0.0841110667571069...\n",
              "6  [[-0.115314946, -0.006283154, 0.595066, -0.160...  ...  {0: 0.06800464376414277, 1: 0.1059924009444186...\n",
              "7  [[-0.15236476, 0.05248125, 0.46090904, -0.5684...  ...  {0: 0.031776818539783785, 1: 0.031917881509573...\n",
              "\n",
              "[8 rows x 5 columns]"
            ]
          },
          "metadata": {
            "tags": []
          },
          "execution_count": 56
        }
      ]
    },
    {
      "cell_type": "markdown",
      "metadata": {
        "id": "GfGcb4_NjJv9"
      },
      "source": [
        "## Summary Extraction"
      ]
    },
    {
      "cell_type": "code",
      "metadata": {
        "id": "iJyGy5HFpUfy"
      },
      "source": [
        "vect_df['ranked_sents'] = vect_df['sents'].apply(lambda x: x)"
      ],
      "execution_count": 57,
      "outputs": []
    },
    {
      "cell_type": "code",
      "metadata": {
        "colab": {
          "base_uri": "https://localhost:8080/",
          "height": 439
        },
        "id": "kQDAyfVmp5lO",
        "outputId": "747689b9-9fa3-47f1-ffac-7db978700b2c"
      },
      "source": [
        "vect_df"
      ],
      "execution_count": 58,
      "outputs": [
        {
          "output_type": "execute_result",
          "data": {
            "text/html": [
              "<div>\n",
              "<style scoped>\n",
              "    .dataframe tbody tr th:only-of-type {\n",
              "        vertical-align: middle;\n",
              "    }\n",
              "\n",
              "    .dataframe tbody tr th {\n",
              "        vertical-align: top;\n",
              "    }\n",
              "\n",
              "    .dataframe thead th {\n",
              "        text-align: right;\n",
              "    }\n",
              "</style>\n",
              "<table border=\"1\" class=\"dataframe\">\n",
              "  <thead>\n",
              "    <tr style=\"text-align: right;\">\n",
              "      <th></th>\n",
              "      <th>clean_text</th>\n",
              "      <th>similarity_matrix</th>\n",
              "      <th>sents</th>\n",
              "      <th>nx_graph</th>\n",
              "      <th>scores</th>\n",
              "      <th>ranked_sents</th>\n",
              "    </tr>\n",
              "  </thead>\n",
              "  <tbody>\n",
              "    <tr>\n",
              "      <th>0</th>\n",
              "      <td>[[0.05148256, 0.11054468, 0.6949994, 0.1891681...</td>\n",
              "      <td>[[0.0, 0.6437833905220032, 0.5915699601173401,...</td>\n",
              "      <td>[Maria Sharapova has basically no friends as t...</td>\n",
              "      <td>(0, 1, 2, 3, 4, 5, 6, 7, 8, 9, 10, 11, 12, 13,...</td>\n",
              "      <td>{0: 0.049271663661586376, 1: 0.056260332812872...</td>\n",
              "      <td>[Maria Sharapova has basically no friends as t...</td>\n",
              "    </tr>\n",
              "    <tr>\n",
              "      <th>1</th>\n",
              "      <td>[[0.10586457, -0.104832724, 0.5098503, 0.25731...</td>\n",
              "      <td>[[0.0, 0.8939819931983948, 0.8638535141944885,...</td>\n",
              "      <td>[BASEL, Switzerland (AP) — Roger Federer advan...</td>\n",
              "      <td>(0, 1, 2, 3, 4, 5, 6, 7, 8, 9, 10, 11)</td>\n",
              "      <td>{0: 0.08347728351009916, 1: 0.0857253951885348...</td>\n",
              "      <td>[BASEL, Switzerland (AP) — Roger Federer advan...</td>\n",
              "    </tr>\n",
              "    <tr>\n",
              "      <th>2</th>\n",
              "      <td>[[-0.014404414, 0.00031916526, 0.118812695, -0...</td>\n",
              "      <td>[[0.0, 0.9248484969139099, 0.9090324640274048,...</td>\n",
              "      <td>[Roger Federer has revealed that organisers of...</td>\n",
              "      <td>(0, 1, 2, 3, 4, 5, 6, 7, 8, 9, 10, 11, 12, 13,...</td>\n",
              "      <td>{0: 0.07091610358816944, 1: 0.0716801831901816...</td>\n",
              "      <td>[Roger Federer has revealed that organisers of...</td>\n",
              "    </tr>\n",
              "    <tr>\n",
              "      <th>3</th>\n",
              "      <td>[[0.04519946, -0.06464375, 0.5035452, -0.16035...</td>\n",
              "      <td>[[0.0, 0.7852268815040588, 0.8482545614242554,...</td>\n",
              "      <td>[Kei Nishikori will try to end his long losing...</td>\n",
              "      <td>(0, 1, 2, 3, 4, 5, 6, 7, 8, 9, 10, 11, 12)</td>\n",
              "      <td>{0: 0.08109867192976133, 1: 0.0729409613094228...</td>\n",
              "      <td>[Kei Nishikori will try to end his long losing...</td>\n",
              "    </tr>\n",
              "    <tr>\n",
              "      <th>4</th>\n",
              "      <td>[[0.21534438, 0.18089992, 0.2559875, 0.0692366...</td>\n",
              "      <td>[[0.0, 0.810055423540263, 0.9082390666007996, ...</td>\n",
              "      <td>[Federer, 37, first broke through on tour over...</td>\n",
              "      <td>(0, 1, 2, 3, 4, 5, 6, 7, 8, 9, 10, 11, 12, 13,...</td>\n",
              "      <td>{0: 0.05944143827301597, 1: 0.0531357506715829...</td>\n",
              "      <td>[Federer, 37, first broke through on tour over...</td>\n",
              "    </tr>\n",
              "    <tr>\n",
              "      <th>5</th>\n",
              "      <td>[[0.03523205, -0.03176445, 0.36155656, -0.1280...</td>\n",
              "      <td>[[0.0, 0.8968858122825623, 0.8748721480369568,...</td>\n",
              "      <td>[Nadal has not played tennis since he was forc...</td>\n",
              "      <td>(0, 1, 2, 3, 4, 5, 6, 7, 8, 9, 10, 11)</td>\n",
              "      <td>{0: 0.08350049169380515, 1: 0.0841110667571069...</td>\n",
              "      <td>[Nadal has not played tennis since he was forc...</td>\n",
              "    </tr>\n",
              "    <tr>\n",
              "      <th>6</th>\n",
              "      <td>[[-0.115314946, -0.006283154, 0.595066, -0.160...</td>\n",
              "      <td>[[0.0, 0.47489437460899353, 0.4500268101692199...</td>\n",
              "      <td>[Tennis giveth, and tennis taketh away., The e...</td>\n",
              "      <td>(0, 1, 2, 3, 4, 5, 6, 7, 8, 9)</td>\n",
              "      <td>{0: 0.06800464376414277, 1: 0.1059924009444186...</td>\n",
              "      <td>[Tennis giveth, and tennis taketh away., The e...</td>\n",
              "    </tr>\n",
              "    <tr>\n",
              "      <th>7</th>\n",
              "      <td>[[-0.15236476, 0.05248125, 0.46090904, -0.5684...</td>\n",
              "      <td>[[0.0, 0.7607073187828064, 0.438073068857193, ...</td>\n",
              "      <td>[I PLAYED golf last week with Todd Reid., He p...</td>\n",
              "      <td>(0, 1, 2, 3, 4, 5, 6, 7, 8, 9, 10, 11, 12, 13,...</td>\n",
              "      <td>{0: 0.031776818539783785, 1: 0.031917881509573...</td>\n",
              "      <td>[I PLAYED golf last week with Todd Reid., He p...</td>\n",
              "    </tr>\n",
              "  </tbody>\n",
              "</table>\n",
              "</div>"
            ],
            "text/plain": [
              "                                          clean_text  ...                                       ranked_sents\n",
              "0  [[0.05148256, 0.11054468, 0.6949994, 0.1891681...  ...  [Maria Sharapova has basically no friends as t...\n",
              "1  [[0.10586457, -0.104832724, 0.5098503, 0.25731...  ...  [BASEL, Switzerland (AP) — Roger Federer advan...\n",
              "2  [[-0.014404414, 0.00031916526, 0.118812695, -0...  ...  [Roger Federer has revealed that organisers of...\n",
              "3  [[0.04519946, -0.06464375, 0.5035452, -0.16035...  ...  [Kei Nishikori will try to end his long losing...\n",
              "4  [[0.21534438, 0.18089992, 0.2559875, 0.0692366...  ...  [Federer, 37, first broke through on tour over...\n",
              "5  [[0.03523205, -0.03176445, 0.36155656, -0.1280...  ...  [Nadal has not played tennis since he was forc...\n",
              "6  [[-0.115314946, -0.006283154, 0.595066, -0.160...  ...  [Tennis giveth, and tennis taketh away., The e...\n",
              "7  [[-0.15236476, 0.05248125, 0.46090904, -0.5684...  ...  [I PLAYED golf last week with Todd Reid., He p...\n",
              "\n",
              "[8 rows x 6 columns]"
            ]
          },
          "metadata": {
            "tags": []
          },
          "execution_count": 58
        }
      ]
    },
    {
      "cell_type": "code",
      "metadata": {
        "id": "4vEzowNEj0ki"
      },
      "source": [
        "# Sorting sentences based on rank\n",
        "for k in vect_df.iloc:\n",
        "  x = k.name\n",
        "  vect_df['ranked_sents'][x] = sorted(((vect_df['scores'][x][i],s) for i,s in enumerate(vect_df['sents'][x])), reverse = True)"
      ],
      "execution_count": 59,
      "outputs": []
    },
    {
      "cell_type": "code",
      "metadata": {
        "colab": {
          "base_uri": "https://localhost:8080/"
        },
        "id": "0mAyEB4EmR_7",
        "outputId": "6f2582f6-2e3a-449a-ee73-b52f5f81f394"
      },
      "source": [
        "vect_df['ranked_sents'][0]"
      ],
      "execution_count": 60,
      "outputs": [
        {
          "output_type": "execute_result",
          "data": {
            "text/plain": [
              "[(0.059013484475260516,\n",
              "  \"I think just because you're in the same sport doesn't mean that you have to be friends with everyone just because you're categorized, you're a tennis player, so you're going to get along with tennis players.\"),\n",
              " (0.05775785287248156,\n",
              "  \"I think everyone just thinks because we're tennis players we should be the greatest of friends.\"),\n",
              " (0.05746240254304827,\n",
              "  'When she said she is not really close to a lot of players, is that something strategic that she is doing?'),\n",
              " (0.05710511681608242,\n",
              "  \"When I'm on the courts or when I'm on the court playing, I'm a competitor and I want to beat every single person whether they're in the locker room or across the net.\"),\n",
              " (0.056555629604371035,\n",
              "  \"Uhm, I'm not really friendly or close to many players.\"),\n",
              " (0.05638733078559284,\n",
              "  \"So I'm not the one to strike up a conversation about the weather and know that in the next few minutes I have to go and try to win a tennis match.\"),\n",
              " (0.05626033281287299,\n",
              "  \"The Russian player has no problems in openly speaking about it and in a recent interview she said: 'I don't really hide any feelings too much.\"),\n",
              " (0.056253455665621344, \"I have not a lot of friends away from the courts.'\"),\n",
              " (0.055834146579688396, 'I think every person has different interests.'),\n",
              " (0.05554085100767725,\n",
              "  \"I have friends that have completely different jobs and interests, and I've met them in very different parts of my life.\"),\n",
              " (0.05530327981367858,\n",
              "  \"There are so many other things that we're interested in, that we do.'\"),\n",
              " (0.05515787843049981,\n",
              "  'But ultimately tennis is just a very small part of what we do.'),\n",
              " (0.05445066632110142, 'I think everyone knows this is my job here.'),\n",
              " (0.054042352735202664,\n",
              "  \"I say my hellos, but I'm not sending any players flowers as well.\"),\n",
              " (0.05211524553530389,\n",
              "  'ALSO READ: Maria Sharapova reveals how tennis keeps her motivated.'),\n",
              " (0.0516852914719471,\n",
              "  \"Is it different on the men's tour than the women's tour?\"),\n",
              " (0.051538378343715316, \"I'm a pretty competitive girl.\"),\n",
              " (0.049271663661586376,\n",
              "  'Maria Sharapova has basically no friends as tennis players on the WTA Tour.'),\n",
              " (0.008264640524268214, \"'No, not at all.\")]"
            ]
          },
          "metadata": {
            "tags": []
          },
          "execution_count": 60
        }
      ]
    },
    {
      "cell_type": "markdown",
      "metadata": {
        "id": "nO8mfU-VqVP8"
      },
      "source": [
        "## Extracting top 40% sentences for the summary"
      ]
    },
    {
      "cell_type": "code",
      "metadata": {
        "colab": {
          "base_uri": "https://localhost:8080/"
        },
        "id": "8zyYaQL0ouES",
        "outputId": "f8ece77d-a34d-46dd-8a5a-926f2b6af1b9"
      },
      "source": [
        "def summary(text):\n",
        "  l = int(len(text) * 2 / 5)\n",
        "  print('\\nSumary is :- \\n')\n",
        "  for i in range(l):\n",
        "    print(text[i][1])\n",
        "  \n",
        "vect_df['ranked_sents'].apply(lambda x: summary(x))"
      ],
      "execution_count": 61,
      "outputs": [
        {
          "output_type": "stream",
          "text": [
            "\n",
            "Sumary is :- \n",
            "\n",
            "I think just because you're in the same sport doesn't mean that you have to be friends with everyone just because you're categorized, you're a tennis player, so you're going to get along with tennis players.\n",
            "I think everyone just thinks because we're tennis players we should be the greatest of friends.\n",
            "When she said she is not really close to a lot of players, is that something strategic that she is doing?\n",
            "When I'm on the courts or when I'm on the court playing, I'm a competitor and I want to beat every single person whether they're in the locker room or across the net.\n",
            "Uhm, I'm not really friendly or close to many players.\n",
            "So I'm not the one to strike up a conversation about the weather and know that in the next few minutes I have to go and try to win a tennis match.\n",
            "The Russian player has no problems in openly speaking about it and in a recent interview she said: 'I don't really hide any feelings too much.\n",
            "\n",
            "Sumary is :- \n",
            "\n",
            "Federer dominated the 20th-ranked Medvedev and had his first match-point chance to break serve again at 5-1.\n",
            "Seeking a ninth title at his hometown event, and a 99th overall, Federer will play 93th-ranked Marius Copil on Sunday.\n",
            "Copil upset expectations of a Federer final against Alexander Zverev in a 6-3, 6-7 (6), 6-4 win over the fifth-ranked German in the earlier semifinal.\n",
            "Federer had an easier time than in his only previous match against Medvedev, a three-setter at Shanghai two weeks ago.\n",
            "\n",
            "Sumary is :- \n",
            "\n",
            "“I could not make a decision in that time, so I told them to do what they wanted.” The 20-time Grand Slam champion has voiced doubts about the wisdom of the one-week format to be introduced by organisers Kosmos, who have promised the International Tennis Federation up to $3 billion in prize money over the next quarter-century.\n",
            "Speaking at the Swiss Indoors tournament where he will play in Sunday’s final against Romanian qualifier Marius Copil, the world number three said that given the impossibly short time frame to make a decision, he opted out of any commitment.\n",
            "Major players feel that a big event in late November combined with one in January before the Australian Open will mean too much tennis and too little rest.\n",
            "Roger Federer has revealed that organisers of the re-launched and condensed Davis Cup gave him three days to decide if he would commit to the controversial competition.\n",
            "This was designed for the future generation of players.” Argentina and Britain received wild cards to the new-look event, and will compete along with the four 2018 semi-finalists and the 12 teams who win qualifying rounds next February.\n",
            "The competition is set to feature 18 countries in the November 18-24 finals in Madrid next year, and will replace the classic home-and-away ties played four times per year for decades.\n",
            "\n",
            "Sumary is :- \n",
            "\n",
            "Kei Nishikori will try to end his long losing streak in ATP finals and Kevin Anderson will go for his second title of the year at the Erste Bank Open on Sunday.\n",
            "The Spaniard broke Anderson twice in the second but didn't get another chance on the South African's serve in the final set.\n",
            "Currently in ninth place, Nishikori with a win could move to within 125 points of the cut for the eight-man event in London next month.\n",
            "He has lost eight straight finals since.\n",
            "He used his first break point to close out the first set before going up 3-0 in the second and wrapping up the win on his first match point.\n",
            "\n",
            "Sumary is :- \n",
            "\n",
            "“I just felt like it really kind of changed where people were a little bit, definitely in the '90s, a lot more quiet, into themselves, and then it started to become better.” Meanwhile, Federer is hoping he can improve his service game as he hunts his ninth Swiss Indoors title this week.\n",
            "“Not always, but I really feel like in the mid-2000 years there was a huge shift of the attitudes of the top players and being more friendly and being more giving, and a lot of that had to do with players like Roger coming up.\n",
            "“I felt like the best weeks that I had to get to know players when I was playing were the Fed Cup weeks or the Olympic weeks, not necessarily during the tournaments.\n",
            "“Clearly you make your life more difficult, but still I was up 6-2, 3-1, break points, so things could have ended very quickly today, even though I didn't have the best serve percentage stats.\n",
            "“And even though maybe we had smaller teams, I still think we kept to ourselves quite a bit.\n",
            "“I think there is a really nice environment and a great atmosphere, especially between some of the veteran players helping some of the younger players out.\n",
            "\n",
            "Sumary is :- \n",
            "\n",
            "Nadal’s appearance in Paris is a big boost to the tournament organisers who could see Roger Federer withdraw.\n",
            "Federer’s projected route to the Paris final could also lead to matches against Kevin Anderson and Novak Djokovic.\n",
            "The Paris Masters draw has been made and Nadal will start his campaign on Tuesday or Wednesday against either Fernando Verdasco or Jeremy Chardy.\n",
            "Djokovic could play Marco Cecchinato in the second round.\n",
            "\n",
            "Sumary is :- \n",
            "\n",
            "Let's also not forget his two Grand Slam doubles triumphs this season.\n",
            "The end of the season is finally in sight, and with so many players defending—or losing—huge chunks of points in Singapore, Zhuhai and London, podcast co-hosts Nina Pantic and Irina Falconi discuss the art of defending points (02:14).\n",
            "In Singapore, one of the biggest storylines (aside from the matches, of course) has been the on-court coaching debate.\n",
            "It's a big deal because...you never forget your first.\n",
            "\n",
            "Sumary is :- \n",
            "\n",
            "“I was on a nice trajectorythen,” Reid recalled.“If I hadn’t got sick, I think I could have started pushing towards the second week at the slams and then who knows.” Duringa comeback attempt some five years later, Reid added Bernard Tomic and 2018 US Open Federer slayer John Millman to his list of career scalps.\n",
            "Exhausted after spending half his round deep in the bushes searching for my ball, as well as those of two other golfers he’d never met before, our incredibly giving designated driver asked if we didn’t mind going straight home after signing off so he could rest up a little before heading to work.\n",
            "The former Wimbledon junior champion was full of hope, excited about getting his life back together after a troubled few years and a touch-and-go battle with pancreatitis.\n",
            "“Now they won’t even give me tickets (to the Open).” A Davis Cup pick and on the cusp of the world’s 100 by 18, Reid had few other complaints - just a lingering sense of what might have been.\n",
            "Fourteen years after sharing centre court with Roger Federer in the third round of the Australian Open, Reid was now running the counter and coaching kids - but sadly now never mine- in suburban Sydney at the Matraville tennis and squash centre run by his father Bob and beautiful mother Sandra, herselfa former professional.\n",
            "Not because he’d been out on a bender or anything — those days were in the past.\n",
            "“But my fondest memory is probably him coming back in Spain with his father and Todd trying to order a ham, cheese and tomato sandwich in the most Aussie English I ever heard.” Among his lesser known achievements - but even more significantto me - was an injured Reid’s effort to reach the final of the Manly Seaside, a prestigious Christmas-time event won backin the day by the likes of legends Rod Laver, Ken Rosewall, Frank Sedgman, John Bromwich, Lew Hoad, Neal Fraser, Fred Stolle, Evonne Goolagong and Australia’s last women’s Australian Open champion, Christine O’Neil.\n",
            "The life-changing setback hit only weeks after the then-teenage wonder boy announced his arrival as a grand slam threat by throwing up all over Rod Laver Arena during a fighting five-set second-round win over Sargis Sargsian.\n",
            "“Time will tell for Nick, but he’s still young.” Todd Reid was still young, too.\n",
            "A big fan and believer in the enigmatic Canberran, Reid didn’t want to see Kyrgios’s career slip away like his did.\n",
            "Hampered by a shoulder injury, Reid served under-arm - UNDER-ARM - throughout the entire tournament yet still made the decider.\n",
            "“I was always happy to work hard,” he said.\n"
          ],
          "name": "stdout"
        },
        {
          "output_type": "execute_result",
          "data": {
            "text/plain": [
              "0    None\n",
              "1    None\n",
              "2    None\n",
              "3    None\n",
              "4    None\n",
              "5    None\n",
              "6    None\n",
              "7    None\n",
              "Name: ranked_sents, dtype: object"
            ]
          },
          "metadata": {
            "tags": []
          },
          "execution_count": 61
        }
      ]
    }
  ]
}